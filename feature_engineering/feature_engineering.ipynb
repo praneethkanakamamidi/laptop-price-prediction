{
 "cells": [
  {
   "cell_type": "code",
   "execution_count": 76,
   "id": "6ec063b4",
   "metadata": {},
   "outputs": [],
   "source": [
    "import pandas as pd\n",
    "import numpy as np\n",
    "from sklearn.model_selection import train_test_split as tts"
   ]
  },
  {
   "cell_type": "code",
   "execution_count": 77,
   "id": "83803cb3",
   "metadata": {},
   "outputs": [
    {
     "name": "stdout",
     "output_type": "stream",
     "text": [
      "<class 'pandas.core.frame.DataFrame'>\n",
      "RangeIndex: 1302 entries, 0 to 1301\n",
      "Data columns (total 13 columns):\n",
      " #   Column       Non-Null Count  Dtype  \n",
      "---  ------       --------------  -----  \n",
      " 0   Company      1302 non-null   object \n",
      " 1   TypeName     1302 non-null   object \n",
      " 2   Ram          1302 non-null   int64  \n",
      " 3   Weight       1302 non-null   float64\n",
      " 4   Price        1302 non-null   int64  \n",
      " 5   Touchscreen  1302 non-null   int64  \n",
      " 6   IPS          1302 non-null   int64  \n",
      " 7   ppi          1302 non-null   float64\n",
      " 8   Cpu brand    1302 non-null   object \n",
      " 9   HDD          1302 non-null   int64  \n",
      " 10  SSD          1302 non-null   int64  \n",
      " 11  Gpu brand    1302 non-null   object \n",
      " 12  os           1302 non-null   object \n",
      "dtypes: float64(2), int64(6), object(5)\n",
      "memory usage: 132.4+ KB\n"
     ]
    }
   ],
   "source": [
    "df = pd.read_csv(\"../data_source/laptop_data_preprocessed.csv\")\n",
    "df.drop(columns=['Unnamed: 0'], inplace=True, errors='ignore')\n",
    "\n",
    "df.info()"
   ]
  },
  {
   "cell_type": "code",
   "execution_count": 78,
   "id": "17a63cb4",
   "metadata": {},
   "outputs": [],
   "source": [
    "X = df.drop(columns=['Price'])\n",
    "y = np.log(df['Price'])\n"
   ]
  },
  {
   "cell_type": "code",
   "execution_count": 79,
   "id": "71a481e0",
   "metadata": {},
   "outputs": [],
   "source": [
    "x_train, x_test, y_train, y_test = tts(x, y, test_size=0.2, random_state=2000)\n"
   ]
  },
  {
   "cell_type": "code",
   "execution_count": 80,
   "id": "50982e3a",
   "metadata": {},
   "outputs": [],
   "source": [
    "from sklearn.compose import ColumnTransformer\n",
    "from sklearn.preprocessing import OneHotEncoder\n",
    "import os\n",
    "\n",
    "x_train, x_test, y_train, y_test = tts(X, y, test_size=0.2, random_state=2000)\n"
   ]
  },
  {
   "cell_type": "code",
   "execution_count": 81,
   "id": "6fc6c684",
   "metadata": {},
   "outputs": [],
   "source": [
    "\n",
    "step1 = ColumnTransformer(\n",
    "    transformers=[\n",
    "        ('col_tnf', OneHotEncoder(drop='first', sparse_output=False), [0, 1, 7, 10, 11])\n",
    "    ],\n",
    "    remainder='passthrough'\n",
    ")"
   ]
  },
  {
   "cell_type": "code",
   "execution_count": 82,
   "id": "852da779",
   "metadata": {},
   "outputs": [],
   "source": [
    "\n",
    "step1.fit(x_train)\n",
    "\n",
    "os.makedirs(\"../data_split\", exist_ok=True)\n",
    "os.makedirs(\"../transformers\", exist_ok=True)\n"
   ]
  },
  {
   "cell_type": "code",
   "execution_count": 83,
   "id": "9c63931b",
   "metadata": {},
   "outputs": [],
   "source": [
    "import pickle\n",
    "\n",
    "x_train.to_csv(\"../data_split/x_train.csv\", index=False)\n",
    "x_test.to_csv(\"../data_split/x_test.csv\", index=False)\n",
    "y_train.to_csv(\"../data_split/y_train.csv\", index=False)\n",
    "y_test.to_csv(\"../data_split/y_test.csv\", index=False)\n",
    "\n",
    "with open(\"../transformers/column_transformer.pkl\", \"wb\") as f:\n",
    "    pickle.dump(step1, f)"
   ]
  }
 ],
 "metadata": {
  "kernelspec": {
   "display_name": "Python 3",
   "language": "python",
   "name": "python3"
  },
  "language_info": {
   "codemirror_mode": {
    "name": "ipython",
    "version": 3
   },
   "file_extension": ".py",
   "mimetype": "text/x-python",
   "name": "python",
   "nbconvert_exporter": "python",
   "pygments_lexer": "ipython3",
   "version": "3.12.7"
  }
 },
 "nbformat": 4,
 "nbformat_minor": 5
}
