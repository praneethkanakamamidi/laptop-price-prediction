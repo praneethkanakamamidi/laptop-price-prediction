{
 "cells": [
  {
   "cell_type": "code",
   "execution_count": 19,
   "id": "e45c12b9",
   "metadata": {},
   "outputs": [],
   "source": [
    "import pandas as pd\n",
    "import numpy as np\n"
   ]
  },
  {
   "cell_type": "code",
   "execution_count": 20,
   "id": "49ff67fa",
   "metadata": {},
   "outputs": [],
   "source": [
    "df = pd.read_csv(\"../data_source/laptop_data_preprocessed.csv\")\n",
    "x_train = pd.read_csv(\"../data_split/x_train.csv\")\n",
    "x_test = pd.read_csv(\"../data_split/x_test.csv\")\n",
    "y_train = pd.read_csv(\"../data_split/y_train.csv\").squeeze()\n",
    "y_test = pd.read_csv(\"../data_split/y_test.csv\").squeeze()\n"
   ]
  },
  {
   "cell_type": "code",
   "execution_count": 21,
   "id": "10f8ebb1",
   "metadata": {},
   "outputs": [
    {
     "name": "stderr",
     "output_type": "stream",
     "text": [
      "C:\\Users\\kanak\\AppData\\Roaming\\Python\\Python313\\site-packages\\sklearn\\base.py:380: InconsistentVersionWarning: Trying to unpickle estimator OneHotEncoder from version 1.6.0 when using version 1.6.1. This might lead to breaking code or invalid results. Use at your own risk. For more info please refer to:\n",
      "https://scikit-learn.org/stable/model_persistence.html#security-maintainability-limitations\n",
      "  warnings.warn(\n",
      "C:\\Users\\kanak\\AppData\\Roaming\\Python\\Python313\\site-packages\\sklearn\\base.py:380: InconsistentVersionWarning: Trying to unpickle estimator FunctionTransformer from version 1.6.0 when using version 1.6.1. This might lead to breaking code or invalid results. Use at your own risk. For more info please refer to:\n",
      "https://scikit-learn.org/stable/model_persistence.html#security-maintainability-limitations\n",
      "  warnings.warn(\n",
      "C:\\Users\\kanak\\AppData\\Roaming\\Python\\Python313\\site-packages\\sklearn\\base.py:380: InconsistentVersionWarning: Trying to unpickle estimator ColumnTransformer from version 1.6.0 when using version 1.6.1. This might lead to breaking code or invalid results. Use at your own risk. For more info please refer to:\n",
      "https://scikit-learn.org/stable/model_persistence.html#security-maintainability-limitations\n",
      "  warnings.warn(\n"
     ]
    }
   ],
   "source": [
    "import pickle\n",
    "\n",
    "with open(\"../transformers/column_transformer.pkl\", \"rb\") as f:\n",
    "    step1 = pickle.load(f)\n"
   ]
  },
  {
   "cell_type": "code",
   "execution_count": null,
   "id": "719ca9b1",
   "metadata": {},
   "outputs": [],
   "source": []
  },
  {
   "cell_type": "code",
   "execution_count": 22,
   "id": "08e2e1a4",
   "metadata": {},
   "outputs": [],
   "source": [
    "from sklearn.linear_model import LinearRegression, Ridge\n",
    "from sklearn.neighbors import KNeighborsRegressor\n",
    "from sklearn.tree import DecisionTreeRegressor\n",
    "from sklearn.svm import SVR\n",
    "from sklearn.ensemble import RandomForestRegressor, AdaBoostRegressor, GradientBoostingRegressor\n",
    "from xgboost import XGBRegressor\n",
    "\n",
    "\n",
    "\n",
    "models = {\n",
    "    'Linear Regression': LinearRegression(),\n",
    "    'Ridge Regression': Ridge(alpha=15),\n",
    "    'KNN': KNeighborsRegressor(n_neighbors=3),\n",
    "    'Decision Tree': DecisionTreeRegressor(max_depth=8),\n",
    "    'SVM': SVR(kernel='rbf', C=10000, epsilon=0.1),\n",
    "    'Random Forest': RandomForestRegressor(\n",
    "        n_estimators=100, random_state=3, max_samples=0.5,\n",
    "        max_features=0.75, max_depth=15\n",
    "    ),\n",
    "    'AdaBoost': AdaBoostRegressor(n_estimators=15, learning_rate=1.0),\n",
    "    'Gradient Boost': GradientBoostingRegressor(n_estimators=100),\n",
    "    'XGBoost': XGBRegressor(max_depth=5, learning_rate=0.5)\n",
    "}\n"
   ]
  },
  {
   "cell_type": "code",
   "execution_count": 23,
   "id": "f09f73f8",
   "metadata": {},
   "outputs": [
    {
     "name": "stdout",
     "output_type": "stream",
     "text": [
      "Linear Regression\n",
      "R² Score: 0.7969\n",
      "MAE Score: 0.2039\n",
      "--------------------------------------------------\n",
      "Ridge Regression\n",
      "R² Score: 0.7859\n",
      "MAE Score: 0.2103\n",
      "--------------------------------------------------\n",
      "KNN\n",
      "R² Score: 0.7710\n",
      "MAE Score: 0.2115\n",
      "--------------------------------------------------\n",
      "Decision Tree\n",
      "R² Score: 0.8074\n",
      "MAE Score: 0.1950\n",
      "--------------------------------------------------\n",
      "SVM\n",
      "R² Score: 0.8248\n",
      "MAE Score: 0.1901\n",
      "--------------------------------------------------\n",
      "Random Forest\n",
      "R² Score: 0.8646\n",
      "MAE Score: 0.1638\n",
      "--------------------------------------------------\n",
      "AdaBoost\n",
      "R² Score: 0.7467\n",
      "MAE Score: 0.2379\n",
      "--------------------------------------------------\n",
      "Gradient Boost\n",
      "R² Score: 0.8455\n",
      "MAE Score: 0.1783\n",
      "--------------------------------------------------\n",
      "XGBoost\n",
      "R² Score: 0.8708\n",
      "MAE Score: 0.1572\n",
      "--------------------------------------------------\n"
     ]
    }
   ],
   "source": [
    "from sklearn.pipeline import Pipeline\n",
    "from sklearn.metrics import r2_score, mean_absolute_error\n",
    "from sklearn.preprocessing import OneHotEncoder\n",
    "from sklearn.compose import ColumnTransformer\n",
    "\n",
    "# Define categorical columns\n",
    "categorical_cols = ['Company', 'TypeName', 'Cpu brand', 'Gpu brand', 'os']\n",
    "\n",
    "# Define ColumnTransformer\n",
    "step1 = ColumnTransformer(\n",
    "    transformers=[\n",
    "        ('col_tnf', OneHotEncoder(drop='first', sparse_output=False), categorical_cols)\n",
    "    ],\n",
    "    remainder='passthrough'\n",
    ")\n",
    "\n",
    "# Fit transformer on training data\n",
    "step1.fit(x_train)\n",
    "\n",
    "results = {}\n",
    "\n",
    "for name, model in models.items():\n",
    "    pipe = Pipeline([\n",
    "        ('transformer', step1),\n",
    "        ('model', model)\n",
    "    ])\n",
    "    \n",
    "    # Train model\n",
    "    pipe.fit(x_train, y_train)\n",
    "    \n",
    "    # Predict\n",
    "    y_pred = pipe.predict(x_test)\n",
    "    \n",
    "    # Evaluate\n",
    "    r2 = r2_score(y_test, y_pred)\n",
    "    mae = mean_absolute_error(y_test, y_pred)\n",
    "    \n",
    "    results[name] = {'r2': r2, 'mae': mae}\n",
    "    \n",
    "    print(f\"{name}\")\n",
    "    print(f\"R² Score: {r2:.4f}\")\n",
    "    print(f\"MAE Score: {mae:.4f}\")\n",
    "    print(\"-\" * 50)\n"
   ]
  },
  {
   "cell_type": "code",
   "execution_count": 24,
   "id": "5ca715ea",
   "metadata": {},
   "outputs": [
    {
     "name": "stdout",
     "output_type": "stream",
     "text": [
      "Model evaluation complete! Saved 'model_performance.csv'.\n"
     ]
    }
   ],
   "source": [
    "results_df = pd.DataFrame(results).T.reset_index()\n",
    "\n",
    "results_df.rename(columns={'index': 'Model Name'}, inplace=True)\n",
    "\n",
    "results_df = results_df.sort_values(by='r2', ascending=False)\n",
    "\n",
    "results_df.to_csv(\"../model_evaluation/model_performance.csv\", index=False)\n",
    "print(\"Model evaluation complete! Saved 'model_performance.csv'.\")"
   ]
  },
  {
   "cell_type": "code",
   "execution_count": 25,
   "id": "b59a685f",
   "metadata": {},
   "outputs": [],
   "source": [
    "pickle.dump(pipe, open('../models/pipe.pkl', 'wb'))\n",
    "df_for_app = df.reset_index(drop=True)  # Remove any index column\n",
    "pickle.dump(df_for_app, open('../models/data.pkl', 'wb'))\n"
   ]
  }
 ],
 "metadata": {
  "kernelspec": {
   "display_name": "Python 3",
   "language": "python",
   "name": "python3"
  },
  "language_info": {
   "codemirror_mode": {
    "name": "ipython",
    "version": 3
   },
   "file_extension": ".py",
   "mimetype": "text/x-python",
   "name": "python",
   "nbconvert_exporter": "python",
   "pygments_lexer": "ipython3",
   "version": "3.13.1"
  }
 },
 "nbformat": 4,
 "nbformat_minor": 5
}
