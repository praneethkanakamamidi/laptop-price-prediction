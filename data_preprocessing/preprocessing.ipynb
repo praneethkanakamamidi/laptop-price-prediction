{
 "cells": [
  {
   "cell_type": "code",
   "execution_count": 39,
   "id": "5c0f7107",
   "metadata": {},
   "outputs": [],
   "source": [
    "import pandas as pd\n",
    "import numpy as np"
   ]
  },
  {
   "cell_type": "markdown",
   "id": "5e59ebbf",
   "metadata": {},
   "source": [
    "### Inspecting unstructured data\n",
    "- While looking the data, there are certain data which are not properly structured. \n",
    "- They are neither numerical or categorical\n",
    "- But they do contain some insights. So we need to analyse them by mocking the preprocessing step. \n",
    "- This not final preprocessing, but we will be doing some trials to get the best out of the data"
   ]
  },
  {
   "cell_type": "code",
   "execution_count": 40,
   "id": "256d68c3",
   "metadata": {},
   "outputs": [],
   "source": [
    "df = data_path = '../data_source/laptop_data.xlsx'\n",
    "df = pd.read_excel(data_path)"
   ]
  },
  {
   "cell_type": "code",
   "execution_count": 41,
   "id": "d06f9cf8",
   "metadata": {},
   "outputs": [
    {
     "data": {
      "text/plain": [
       "0        8GB\n",
       "1        8GB\n",
       "2        8GB\n",
       "3       16GB\n",
       "4        8GB\n",
       "        ... \n",
       "1298     4GB\n",
       "1299    16GB\n",
       "1300     2GB\n",
       "1301     6GB\n",
       "1302     4GB\n",
       "Name: Ram, Length: 1303, dtype: object"
      ]
     },
     "execution_count": 41,
     "metadata": {},
     "output_type": "execute_result"
    }
   ],
   "source": [
    "df['Ram']"
   ]
  },
  {
   "cell_type": "markdown",
   "id": "5f388c69",
   "metadata": {},
   "source": [
    "## Intuition Report: RAM Feature Preprocessing\n",
    "\n",
    "### 1. Feature Overview\n",
    "The `Ram` column represents the **memory capacity** of each laptop in gigabytes (GB). Initially, the data was stored as **string values** such as `\"8GB\"`, `\"16GB\"`, etc. Although human-readable, this representation is **not directly usable** for numerical analysis or modeling.\n",
    "\n",
    "---\n",
    "\n",
    "### 2. Problem with Original Format\n",
    "- The presence of the `\"GB\"` text suffix makes the column **non-numeric**, which restricts:\n",
    "  - Statistical computations (e.g., mean, correlation)\n",
    "  - Visualization scaling (e.g., histograms, box plots)\n",
    "  - Feature engineering (e.g., normalization, clustering)\n",
    "\n",
    "Hence, even though `\"8GB\"` and `\"16GB\"` carry quantitative meaning, the system interprets them as plain text.\n",
    "\n",
    "---\n",
    "\n",
    "### 3. Preprocessing Intuition\n",
    "To make this feature analytically useful:\n",
    "1. **Text Cleaning** – Remove the `\"GB\"` suffix to isolate the numeric part.  \n",
    "   Example: `\"8GB\"` → `\"8\"`\n",
    "2. **Type Conversion** – Convert the cleaned text into an **integer datatype** (`int32`), enabling mathematical operations.\n",
    "\n",
    "This ensures that the `Ram` feature can be interpreted quantitatively — representing **actual hardware capacity** rather than a string label.\n",
    "\n",
    "---\n",
    "\n",
    "### 4. Analytical Benefit\n",
    "Once converted to numeric form, the `Ram` column can now:\n",
    "- Participate in **descriptive statistics** and **correlation analysis**.\n",
    "- Be used in **model training**, contributing to performance prediction or price estimation.\n",
    "- Serve as a **scalable and comparable metric** across all entries.\n",
    "\n",
    "---\n",
    "\n",
    "### 5. Intuitive Takeaway\n",
    "In short, the transformation from `\"8GB\"` → `8` reflects a shift from **human-readable text** to **machine-understandable numeric format**, a key step in preparing structured data for meaningful analysis and modeling.\n"
   ]
  },
  {
   "cell_type": "code",
   "execution_count": 42,
   "id": "7518d152",
   "metadata": {},
   "outputs": [],
   "source": [
    "df['Ram'] = df['Ram'].str.replace('GB','').astype('int32')\n"
   ]
  },
  {
   "cell_type": "code",
   "execution_count": 43,
   "id": "ab3e61b9",
   "metadata": {},
   "outputs": [
    {
     "data": {
      "text/plain": [
       "0        8\n",
       "1        8\n",
       "2        8\n",
       "3       16\n",
       "4        8\n",
       "        ..\n",
       "1298     4\n",
       "1299    16\n",
       "1300     2\n",
       "1301     6\n",
       "1302     4\n",
       "Name: Ram, Length: 1303, dtype: int32"
      ]
     },
     "execution_count": 43,
     "metadata": {},
     "output_type": "execute_result"
    }
   ],
   "source": [
    "df['Ram']\n"
   ]
  },
  {
   "cell_type": "code",
   "execution_count": 44,
   "id": "d11dea14",
   "metadata": {},
   "outputs": [
    {
     "data": {
      "text/plain": [
       "0       1.37kg\n",
       "1       1.34kg\n",
       "2       1.86kg\n",
       "3       1.83kg\n",
       "4       1.37kg\n",
       "         ...  \n",
       "1298     1.8kg\n",
       "1299     1.3kg\n",
       "1300     1.5kg\n",
       "1301    2.19kg\n",
       "1302     2.2kg\n",
       "Name: Weight, Length: 1303, dtype: object"
      ]
     },
     "execution_count": 44,
     "metadata": {},
     "output_type": "execute_result"
    }
   ],
   "source": [
    "df['Weight'] \n"
   ]
  },
  {
   "cell_type": "markdown",
   "id": "7e002db3",
   "metadata": {},
   "source": [
    "## Intuition Report: Weight and Price Feature Preprocessing\n",
    "\n",
    "### 1. Feature Overview\n",
    "The dataset includes two continuous features:\n",
    "- **`Weight`** → Indicates the physical mass of each laptop, initially recorded with a `'kg'` unit suffix.  \n",
    "- **`Price`** → Represents the product’s cost, already stored as a numeric value.\n",
    "\n",
    "Both attributes are **quantitative**, but their usability in analysis depends on proper data typing and formatting.\n",
    "\n",
    "---\n",
    "\n",
    "### 2. Problem with Original Weight Format\n",
    "Initially, the `Weight` column contained values like `\"1.37kg\"`, `\"1.8kg\"`, etc.  \n",
    "This textual representation prevents numerical operations such as:\n",
    "- Calculating averages or weight distribution.\n",
    "- Correlating with other numeric features (e.g., `Price`, `Inches`, `Ram`).\n",
    "- Scaling and normalization for modeling.\n",
    "\n",
    "The `'kg'` suffix introduces **non-numeric noise**, even though the value itself is numerical in nature.\n",
    "\n",
    "---\n",
    "\n",
    "### 3. Preprocessing Intuition\n",
    "To prepare `Weight` for quantitative analysis:\n",
    "1. **Remove the textual unit (`'kg'`)** — stripping non-numeric characters.\n",
    "2. **Convert to a numeric datatype (`float32`)** — enabling mathematical operations.\n",
    "\n",
    "This conversion allows the column to truly represent physical weight values on a continuous numeric scale.\n",
    "\n",
    "---\n",
    "\n",
    "### 4. Role of Price Feature\n",
    "The `Price` column is already numeric but needs to be **validated** for consistency:\n",
    "- Ensure there are **no string or currency symbols** (like “₹” or “USD”).\n",
    "- Maintain it as a **float or int** type to support statistical and model-based analysis.\n",
    "\n",
    "---\n",
    "\n",
    "### 5. Analytical Value\n",
    "Post preprocessing:\n",
    "- `Weight` becomes a **continuous variable**, suitable for regression, trend, and correlation analysis.\n",
    "- `Price` remains a **target or dependent variable**, which can be predicted or explained by other features like `Ram`, `Inches`, and `Weight`.\n",
    "\n",
    "---\n",
    "\n",
    "### 6. Intuitive Takeaway\n",
    "The transformation from `\"1.37kg\"` → `1.37` signifies **unit normalization** — translating human-readable data into a **machine-understandable numeric scale**.  \n",
    "Such preprocessing ensures both `Weight` and `Price` align with analytical workflows, making them ready for **visual exploration, feature scaling, and predictive modeling**.\n"
   ]
  },
  {
   "cell_type": "code",
   "execution_count": 45,
   "id": "2bec2c9a",
   "metadata": {},
   "outputs": [],
   "source": [
    "df['Weight'] = df['Weight'].str.replace('kg','').astype('float32')"
   ]
  },
  {
   "cell_type": "code",
   "execution_count": 46,
   "id": "4fb6c662",
   "metadata": {},
   "outputs": [
    {
     "data": {
      "text/plain": [
       "0       1.37\n",
       "1       1.34\n",
       "2       1.86\n",
       "3       1.83\n",
       "4       1.37\n",
       "        ... \n",
       "1298    1.80\n",
       "1299    1.30\n",
       "1300    1.50\n",
       "1301    2.19\n",
       "1302    2.20\n",
       "Name: Weight, Length: 1303, dtype: float32"
      ]
     },
     "execution_count": 46,
     "metadata": {},
     "output_type": "execute_result"
    }
   ],
   "source": [
    "df['Weight']"
   ]
  },
  {
   "cell_type": "code",
   "execution_count": 47,
   "id": "ea817431",
   "metadata": {},
   "outputs": [
    {
     "data": {
      "text/plain": [
       "0        71378.6832\n",
       "1        47895.5232\n",
       "2        30636.0000\n",
       "3       135195.3360\n",
       "4        96095.8080\n",
       "           ...     \n",
       "1298     33992.6400\n",
       "1299     79866.7200\n",
       "1300     12201.1200\n",
       "1301     40705.9200\n",
       "1302     19660.3200\n",
       "Name: Price, Length: 1303, dtype: float64"
      ]
     },
     "execution_count": 47,
     "metadata": {},
     "output_type": "execute_result"
    }
   ],
   "source": [
    "df['Price'] "
   ]
  },
  {
   "cell_type": "markdown",
   "id": "bbc2ac62",
   "metadata": {},
   "source": [
    "## Intuition Report: Price Feature Formatting\n",
    "\n",
    "### 1. Feature Overview\n",
    "The `Price` column captures the **monetary value** of each laptop.  \n",
    "Initially, it was stored as a **floating-point (`float64`)** number, containing decimal precision such as `71378.6832`.  \n",
    "However, in most retail or consumer datasets, prices are typically represented in **whole currency units** rather than fractional decimals.\n",
    "\n",
    "---\n",
    "\n",
    "### 2. Problem with Floating Representation\n",
    "Although decimals provide precision, they can introduce **unnecessary granularity** when:\n",
    "- Prices are inherently rounded to the nearest unit (e.g., ₹47,895 rather than ₹47,895.52).\n",
    "- Models or reports require **consistent integer-based values**.\n",
    "- Data visualization or aggregation demands **clean categorical grouping** by price ranges.\n",
    "\n",
    "Retaining floating values can also slightly increase **memory consumption** and **computation overhead** during large-scale processing.\n",
    "\n",
    "---\n",
    "\n",
    "### 3. Preprocessing Intuition\n",
    "To align the `Price` feature with practical analysis needs:\n",
    "1. **Type Conversion** → Convert from `float64` to `int`.  \n",
    "   This transformation discards fractional parts and stores prices as whole numbers.\n",
    "2. This step maintains the **true magnitude** of the data while simplifying downstream usage.\n",
    "\n",
    "---\n",
    "\n",
    "### 4. Analytical Benefit\n",
    "Post conversion, the `Price` feature:\n",
    "- Becomes **simpler to interpret** and visualize.\n",
    "- Aligns naturally with **real-world pricing conventions** (no decimal fractions in currency).\n",
    "- Supports **categorical binning**, **correlation**, and **machine learning regression** with minimal noise.\n",
    "\n",
    "---\n",
    "\n",
    "### 5. Intuitive Takeaway\n",
    "The conversion from `71378.6832 → 71378` reflects a deliberate move from **over-precision to practical clarity**.  \n",
    "It preserves interpretability and analytical stability, ensuring that `Price` behaves as a **clean numerical target variable** for trend, distribution, or predictive analysis.\n"
   ]
  },
  {
   "cell_type": "code",
   "execution_count": 48,
   "id": "42563b9b",
   "metadata": {},
   "outputs": [],
   "source": [
    "df['Price'] = df['Price'].astype(int)"
   ]
  },
  {
   "cell_type": "code",
   "execution_count": 49,
   "id": "d1beb326",
   "metadata": {},
   "outputs": [
    {
     "data": {
      "text/plain": [
       "0        71378\n",
       "1        47895\n",
       "2        30636\n",
       "3       135195\n",
       "4        96095\n",
       "         ...  \n",
       "1298     33992\n",
       "1299     79866\n",
       "1300     12201\n",
       "1301     40705\n",
       "1302     19660\n",
       "Name: Price, Length: 1303, dtype: int32"
      ]
     },
     "execution_count": 49,
     "metadata": {},
     "output_type": "execute_result"
    }
   ],
   "source": [
    "df['Price']"
   ]
  },
  {
   "cell_type": "code",
   "execution_count": 50,
   "id": "a3c3837b",
   "metadata": {},
   "outputs": [
    {
     "data": {
      "text/plain": [
       "0               IPS Panel Retina Display 2560x1600\n",
       "1                                         1440x900\n",
       "2                                Full HD 1920x1080\n",
       "3               IPS Panel Retina Display 2880x1800\n",
       "4               IPS Panel Retina Display 2560x1600\n",
       "                           ...                    \n",
       "1298     IPS Panel Full HD / Touchscreen 1920x1080\n",
       "1299    IPS Panel Quad HD+ / Touchscreen 3200x1800\n",
       "1300                                      1366x768\n",
       "1301                                      1366x768\n",
       "1302                                      1366x768\n",
       "Name: ScreenResolution, Length: 1303, dtype: object"
      ]
     },
     "execution_count": 50,
     "metadata": {},
     "output_type": "execute_result"
    }
   ],
   "source": [
    "df['ScreenResolution']\n"
   ]
  },
  {
   "cell_type": "markdown",
   "id": "3f103432",
   "metadata": {},
   "source": [
    "## Intuition Report: ScreenResolution Feature Engineering\n",
    "\n",
    "### 1. Feature Overview\n",
    "The `ScreenResolution` column describes the **display characteristics** of each laptop — combining textual and numerical information such as:\n",
    "- Display technology (e.g., *IPS Panel*, *Retina Display*)\n",
    "- Touch capability (e.g., *Touchscreen*)\n",
    "- Resolution (e.g., *1920x1080*)\n",
    "\n",
    "This feature contains **multiple attributes embedded in a single string**, which makes it **semi-structured** and not directly usable for quantitative analysis.\n",
    "\n",
    "---\n",
    "\n",
    "### 2. Problem with Original Format\n",
    "As a single text field, `ScreenResolution` mixes descriptive and numeric data.  \n",
    "This leads to challenges like:\n",
    "- Difficulty in isolating **individual display properties**.\n",
    "- Inability to use **resolution values** in mathematical computations.\n",
    "- Textual redundancy that limits **pattern recognition** or **model interpretability**.\n",
    "\n",
    "To extract meaningful signals, we must **decompose** the field into separate analytical components.\n",
    "\n",
    "---\n",
    "\n",
    "### 3. Preprocessing Intuition\n",
    "\n",
    "#### a. Touchscreen Detection\n",
    "- Create a new binary feature `Touchscreen`:\n",
    "  - `1` → Laptop has a touchscreen display.\n",
    "  - `0` → Non-touchscreen.\n",
    "- Intuition: Converts descriptive text into a **machine-readable flag** representing interactivity.\n",
    "\n",
    "#### b. IPS Panel Detection\n",
    "- Create another binary feature `IPS`:\n",
    "  - `1` → Laptop includes an IPS display.\n",
    "  - `0` → Otherwise.\n",
    "- Intuition: Captures display **quality and color-accuracy indicator**, transforming qualitative detail into a structured format.\n",
    "\n",
    "#### c. Resolution Extraction\n",
    "- Split the resolution part (e.g., `\"1920x1080\"`) into two numeric columns:\n",
    "  - `x_res` → Horizontal pixel count.\n",
    "  - `y_res` → Vertical pixel count.\n",
    "- This step extracts the **core quantitative aspect** of screen specification.\n",
    "\n",
    "---\n",
    "\n",
    "### 4. PPI (Pixels Per Inch) Calculation\n",
    "- Using the formula:  \n",
    "  \\[\n",
    "  \\text{ppi} = \\frac{\\sqrt{(x\\_res)^2 + (y\\_res)^2}}{\\text{Inches}}\n",
    "  \\]\n",
    "- Intuition:\n",
    "  - PPI measures **pixel density**, a key indicator of display sharpness.\n",
    "  - Higher PPI implies finer detail and better visual clarity.\n",
    "- After computing, `ppi` replaces raw resolution and inch size, offering a **single continuous metric** that summarizes screen quality.\n",
    "\n",
    "---\n",
    "\n",
    "### 5. Cleanup\n",
    "- Drop redundant columns:\n",
    "  - `ScreenResolution`, `Inches`, `x_res`, and `y_res`.\n",
    "- This ensures the dataset remains **compact and non-redundant**, retaining only the derived, analysis-ready features (`Touchscreen`, `IPS`, and `ppi`).\n",
    "\n",
    "---\n",
    "\n",
    "### 6. Intuitive Takeaway\n",
    "This transformation converts `ScreenResolution` from a **mixed descriptive text** into **three clean analytical dimensions**:\n",
    "1. **Touchscreen** → Interactivity (binary feature)  \n",
    "2. **IPS** → Display type (binary feature)  \n",
    "3. **PPI** → Display quality (continuous feature)  \n",
    "\n",
    "Together, they translate textual complexity into **quantifiable, interpretable signals** that enhance both statistical and predictive modeling workflows.\n"
   ]
  },
  {
   "cell_type": "code",
   "execution_count": 51,
   "id": "a0a9e0d4",
   "metadata": {},
   "outputs": [],
   "source": [
    "df['Touchscreen']=df['ScreenResolution'].apply(lambda x:1 if 'Touchscreen' in x else 0)\n"
   ]
  },
  {
   "cell_type": "code",
   "execution_count": 52,
   "id": "5e2fddaf",
   "metadata": {},
   "outputs": [
    {
     "data": {
      "text/plain": [
       "0       0\n",
       "1       0\n",
       "2       0\n",
       "3       0\n",
       "4       0\n",
       "       ..\n",
       "1298    1\n",
       "1299    1\n",
       "1300    0\n",
       "1301    0\n",
       "1302    0\n",
       "Name: Touchscreen, Length: 1303, dtype: int64"
      ]
     },
     "execution_count": 52,
     "metadata": {},
     "output_type": "execute_result"
    }
   ],
   "source": [
    "df['Touchscreen']"
   ]
  },
  {
   "cell_type": "code",
   "execution_count": 53,
   "id": "7481e134",
   "metadata": {},
   "outputs": [],
   "source": [
    "df['IPS']=df['ScreenResolution'].apply(lambda x:1 if 'IPS' in x else 0)\n"
   ]
  },
  {
   "cell_type": "code",
   "execution_count": 54,
   "id": "3966d5e6",
   "metadata": {},
   "outputs": [
    {
     "data": {
      "text/plain": [
       "0       1\n",
       "1       0\n",
       "2       0\n",
       "3       1\n",
       "4       1\n",
       "       ..\n",
       "1298    1\n",
       "1299    1\n",
       "1300    0\n",
       "1301    0\n",
       "1302    0\n",
       "Name: IPS, Length: 1303, dtype: int64"
      ]
     },
     "execution_count": 54,
     "metadata": {},
     "output_type": "execute_result"
    }
   ],
   "source": [
    "df['IPS']"
   ]
  },
  {
   "cell_type": "code",
   "execution_count": 55,
   "id": "ba484419",
   "metadata": {},
   "outputs": [
    {
     "data": {
      "text/plain": [
       "0                       Intel Core i5 2.3GHz\n",
       "1                       Intel Core i5 1.8GHz\n",
       "2                 Intel Core i5 7200U 2.5GHz\n",
       "3                       Intel Core i7 2.7GHz\n",
       "4                       Intel Core i5 3.1GHz\n",
       "                        ...                 \n",
       "1298              Intel Core i7 6500U 2.5GHz\n",
       "1299              Intel Core i7 6500U 2.5GHz\n",
       "1300    Intel Celeron Dual Core N3050 1.6GHz\n",
       "1301              Intel Core i7 6500U 2.5GHz\n",
       "1302    Intel Celeron Dual Core N3050 1.6GHz\n",
       "Name: Cpu, Length: 1303, dtype: object"
      ]
     },
     "execution_count": 55,
     "metadata": {},
     "output_type": "execute_result"
    }
   ],
   "source": [
    "df['Cpu']"
   ]
  },
  {
   "cell_type": "code",
   "execution_count": 56,
   "id": "b85af8ce",
   "metadata": {},
   "outputs": [],
   "source": [
    "df['Cpu Name'] = df['Cpu'].apply(lambda x:\" \".join(x.split()[0:3]))\n"
   ]
  },
  {
   "cell_type": "code",
   "execution_count": 57,
   "id": "2b93f69e",
   "metadata": {},
   "outputs": [
    {
     "data": {
      "text/plain": [
       "0               IPS Panel Retina Display 2560x1600\n",
       "1                                         1440x900\n",
       "2                                Full HD 1920x1080\n",
       "3               IPS Panel Retina Display 2880x1800\n",
       "4               IPS Panel Retina Display 2560x1600\n",
       "                           ...                    \n",
       "1298     IPS Panel Full HD / Touchscreen 1920x1080\n",
       "1299    IPS Panel Quad HD+ / Touchscreen 3200x1800\n",
       "1300                                      1366x768\n",
       "1301                                      1366x768\n",
       "1302                                      1366x768\n",
       "Name: ScreenResolution, Length: 1303, dtype: object"
      ]
     },
     "execution_count": 57,
     "metadata": {},
     "output_type": "execute_result"
    }
   ],
   "source": [
    "df['ScreenResolution']"
   ]
  },
  {
   "cell_type": "code",
   "execution_count": 58,
   "id": "f6dcaa13",
   "metadata": {},
   "outputs": [],
   "source": [
    "new=df['ScreenResolution'].str.split('x',n=1,expand = True)\n",
    "\n",
    "df['x_res'] = new[0]\n",
    "df['y_res'] = new[1]\n"
   ]
  },
  {
   "cell_type": "code",
   "execution_count": 59,
   "id": "501afd82",
   "metadata": {},
   "outputs": [
    {
     "data": {
      "text/plain": [
       "0               IPS Panel Retina Display 2560\n",
       "1                                        1440\n",
       "2                                Full HD 1920\n",
       "3               IPS Panel Retina Display 2880\n",
       "4               IPS Panel Retina Display 2560\n",
       "                        ...                  \n",
       "1298     IPS Panel Full HD / Touchscreen 1920\n",
       "1299    IPS Panel Quad HD+ / Touchscreen 3200\n",
       "1300                                     1366\n",
       "1301                                     1366\n",
       "1302                                     1366\n",
       "Name: x_res, Length: 1303, dtype: object"
      ]
     },
     "execution_count": 59,
     "metadata": {},
     "output_type": "execute_result"
    }
   ],
   "source": [
    "df['x_res']\n"
   ]
  },
  {
   "cell_type": "code",
   "execution_count": 60,
   "id": "6cf0028a",
   "metadata": {},
   "outputs": [
    {
     "data": {
      "text/plain": [
       "0       1600\n",
       "1        900\n",
       "2       1080\n",
       "3       1800\n",
       "4       1600\n",
       "        ... \n",
       "1298    1080\n",
       "1299    1800\n",
       "1300     768\n",
       "1301     768\n",
       "1302     768\n",
       "Name: y_res, Length: 1303, dtype: object"
      ]
     },
     "execution_count": 60,
     "metadata": {},
     "output_type": "execute_result"
    }
   ],
   "source": [
    "df['y_res']"
   ]
  },
  {
   "cell_type": "markdown",
   "id": "716cefc4",
   "metadata": {},
   "source": [
    "# Screen Resolution Feature Extraction and PPI Calculation\n",
    "\n",
    "## Dataset Overview\n",
    "The `ScreenResolution` column contains the display resolution of laptops. Example entries:\n",
    "\n",
    "- IPS Panel Retina Display 2560x1600  \n",
    "- 1440x900  \n",
    "- Full HD 1920x1080  \n",
    "- IPS Panel Retina Display 2880x1800  \n",
    "\n",
    "These values include both textual descriptions and numeric resolution values.\n",
    "\n",
    "---\n",
    "\n",
    "## Step 1: Split Resolution into X and Y\n",
    "\n",
    "**Intuition:**  \n",
    "To calculate pixel density (PPI), we first need the horizontal (`x_res`) and vertical (`y_res`) resolution. The resolution is separated by an \"x\".  \n",
    "\n",
    "## Step 2: Extract Numeric Values\n",
    "**Intuition:**  \n",
    "Some `x_res` values contain extra text like \"IPS Panel Retina Display\" or \"Full HD\". Using pattern matching (`\\d+`), we extract only the numeric portion.  \n",
    "\n",
    "After this step, `x_res` and `y_res` are clean integers representing horizontal and vertical pixels.\n",
    "\n",
    "---\n",
    "\n",
    "## Step 3: Convert to Integer\n",
    "**Intuition:**  \n",
    "To perform mathematical operations, both `x_res` and `y_res` are converted from strings to integers.  \n",
    "\n",
    "---\n",
    "\n",
    "## Step 4: Calculate PPI (Pixels Per Inch)\n",
    "**Intuition:**  \n",
    "PPI measures display sharpness. Formula:\n",
    "\n",
    "\\[\n",
    "\\text{PPI} = \\frac{\\sqrt{(\\text{x_res}^2 + \\text{y_res}^2)}}{\\text{screen size in inches}}\n",
    "\\]\n",
    "\n",
    "- Uses Pythagoras theorem to calculate diagonal resolution.  \n",
    "- Divides by screen size (`Inches`) to normalize.  \n",
    "- Result is stored in a new column `ppi`.\n",
    "\n",
    "\n",
    "---\n",
    "\n",
    "## Summary\n",
    "1. Split resolution into horizontal and vertical components.  \n",
    "2. Clean numeric values from text.  \n",
    "3. Convert to integer for calculations.  \n",
    "4. Compute PPI to quantify screen sharpness, a key feature for display analysis.\n"
   ]
  },
  {
   "cell_type": "code",
   "execution_count": 61,
   "id": "705065a8",
   "metadata": {},
   "outputs": [],
   "source": [
    "df['x_res'] = df['x_res'].str.replace(',','').str.findall(r'(\\d+\\.?\\d+)').apply(lambda x:x[0])"
   ]
  },
  {
   "cell_type": "code",
   "execution_count": 62,
   "id": "78a61e91",
   "metadata": {},
   "outputs": [],
   "source": [
    "\n",
    "df['x_res'] = df['x_res'].astype(int)\n",
    "df['y_res'] = df['y_res'].astype(int)\n"
   ]
  },
  {
   "cell_type": "code",
   "execution_count": 63,
   "id": "4015b65c",
   "metadata": {},
   "outputs": [
    {
     "data": {
      "text/plain": [
       "0       2560\n",
       "1       1440\n",
       "2       1920\n",
       "3       2880\n",
       "4       2560\n",
       "        ... \n",
       "1298    1920\n",
       "1299    3200\n",
       "1300    1366\n",
       "1301    1366\n",
       "1302    1366\n",
       "Name: x_res, Length: 1303, dtype: int32"
      ]
     },
     "execution_count": 63,
     "metadata": {},
     "output_type": "execute_result"
    }
   ],
   "source": [
    "df['x_res']"
   ]
  },
  {
   "cell_type": "code",
   "execution_count": 64,
   "id": "d6710dcd",
   "metadata": {},
   "outputs": [
    {
     "data": {
      "text/plain": [
       "0       1600\n",
       "1        900\n",
       "2       1080\n",
       "3       1800\n",
       "4       1600\n",
       "        ... \n",
       "1298    1080\n",
       "1299    1800\n",
       "1300     768\n",
       "1301     768\n",
       "1302     768\n",
       "Name: y_res, Length: 1303, dtype: int32"
      ]
     },
     "execution_count": 64,
     "metadata": {},
     "output_type": "execute_result"
    }
   ],
   "source": [
    "df['y_res']"
   ]
  },
  {
   "cell_type": "code",
   "execution_count": 65,
   "id": "1c8a85b3",
   "metadata": {},
   "outputs": [],
   "source": [
    "df['ppi'] = (((df['x_res']**2) + (df['y_res']**2))**0.5/df['Inches']).astype(float)"
   ]
  },
  {
   "cell_type": "code",
   "execution_count": 66,
   "id": "79069132",
   "metadata": {},
   "outputs": [
    {
     "data": {
      "text/plain": [
       "0       226.983005\n",
       "1       127.677940\n",
       "2       141.211998\n",
       "3       220.534624\n",
       "4       226.983005\n",
       "           ...    \n",
       "1298    157.350512\n",
       "1299    276.053530\n",
       "1300    111.935204\n",
       "1301    100.454670\n",
       "1302    100.454670\n",
       "Name: ppi, Length: 1303, dtype: float64"
      ]
     },
     "execution_count": 66,
     "metadata": {},
     "output_type": "execute_result"
    }
   ],
   "source": [
    "df['ppi']"
   ]
  },
  {
   "cell_type": "code",
   "execution_count": null,
   "id": "57b7d9e9",
   "metadata": {},
   "outputs": [],
   "source": [
    "df.drop(columns=['ScreenResolution','Inches','x_res','y_res'],inplace=True)"
   ]
  },
  {
   "cell_type": "code",
   "execution_count": 68,
   "id": "2b30af95",
   "metadata": {},
   "outputs": [],
   "source": [
    "df.to_csv(\"../data_source/laptop_data_preprocessed.csv\")"
   ]
  }
 ],
 "metadata": {
  "kernelspec": {
   "display_name": "Python 3",
   "language": "python",
   "name": "python3"
  },
  "language_info": {
   "codemirror_mode": {
    "name": "ipython",
    "version": 3
   },
   "file_extension": ".py",
   "mimetype": "text/x-python",
   "name": "python",
   "nbconvert_exporter": "python",
   "pygments_lexer": "ipython3",
   "version": "3.12.7"
  }
 },
 "nbformat": 4,
 "nbformat_minor": 5
}
