{
 "cells": [
  {
   "cell_type": "code",
   "execution_count": 1,
   "id": "6ec063b4",
   "metadata": {},
   "outputs": [],
   "source": [
    "import pandas as pd\n",
    "import numpy as np\n",
    "from sklearn.model_selection import train_test_split as tts\n"
   ]
  },
  {
   "cell_type": "code",
   "execution_count": 2,
   "id": "83803cb3",
   "metadata": {},
   "outputs": [
    {
     "name": "stdout",
     "output_type": "stream",
     "text": [
      "<class 'pandas.core.frame.DataFrame'>\n",
      "RangeIndex: 1303 entries, 0 to 1302\n",
      "Data columns (total 12 columns):\n",
      " #   Column            Non-Null Count  Dtype  \n",
      "---  ------            --------------  -----  \n",
      " 0   Unnamed: 0        1303 non-null   int64  \n",
      " 1   Company           1303 non-null   object \n",
      " 2   TypeName          1303 non-null   object \n",
      " 3   Inches            1303 non-null   float64\n",
      " 4   ScreenResolution  1303 non-null   object \n",
      " 5   Cpu               1303 non-null   object \n",
      " 6   Ram               1303 non-null   object \n",
      " 7   Memory            1303 non-null   object \n",
      " 8   Gpu               1303 non-null   object \n",
      " 9   OpSys             1303 non-null   object \n",
      " 10  Weight            1303 non-null   object \n",
      " 11  Price             1303 non-null   float64\n",
      "dtypes: float64(2), int64(1), object(9)\n",
      "memory usage: 122.3+ KB\n"
     ]
    }
   ],
   "source": [
    "data = pd.read_excel(\"../data_source/laptop_data.xlsx\")\n",
    "data.info()"
   ]
  },
  {
   "cell_type": "code",
   "execution_count": 3,
   "id": "446c4ce6",
   "metadata": {},
   "outputs": [],
   "source": [
    "data.drop(columns=['Unnamed: 0'], inplace=True, errors='ignore')\n",
    "data['Ram'] = data['Ram'].str.replace('GB','').astype('int32')\n",
    "data['Weight'] = data['Weight'].str.replace('kg','').astype('float32')\n",
    "data['Price'] = data['Price'].astype(int)\n"
   ]
  },
  {
   "cell_type": "code",
   "execution_count": 4,
   "id": "7f240c3a",
   "metadata": {},
   "outputs": [],
   "source": [
    "data['Touchscreen'] = data['ScreenResolution'].apply(lambda x: 1 if 'Touchscreen' in x else 0)\n",
    "data['IPS'] = data['ScreenResolution'].apply(lambda x: 1 if 'IPS' in x else 0)\n"
   ]
  },
  {
   "cell_type": "code",
   "execution_count": 5,
   "id": "b79278e0",
   "metadata": {},
   "outputs": [],
   "source": [
    "new = data['ScreenResolution'].str.split('x', n=1, expand=True)\n",
    "data['x_res'] = new[0]\n",
    "data['y_res'] = new[1]\n"
   ]
  },
  {
   "cell_type": "code",
   "execution_count": 6,
   "id": "9750c144",
   "metadata": {},
   "outputs": [],
   "source": [
    "data['x_res'] = data['x_res'].str.replace(',','').str.findall(r'(\\d+\\.?\\d+)').apply(lambda x: x[0] if x else '0')\n",
    "\n",
    "data['x_res'] = data['x_res'].astype(int)\n",
    "data['y_res'] = data['y_res'].astype(int)\n"
   ]
  },
  {
   "cell_type": "code",
   "execution_count": 7,
   "id": "cfe2a476",
   "metadata": {},
   "outputs": [],
   "source": [
    "data['ppi'] = (((data['x_res']**2) + (data['y_res']**2))**0.5 / data['Inches']).astype(float)\n",
    "data.drop(columns=['ScreenResolution','Inches','x_res','y_res'], inplace=True)\n"
   ]
  },
  {
   "cell_type": "code",
   "execution_count": 8,
   "id": "001fa6f5",
   "metadata": {},
   "outputs": [],
   "source": [
    "# CPU processing\n",
    "data['Cpu Name'] = data['Cpu'].apply(lambda x: \" \".join(x.split()[0:3]))\n"
   ]
  },
  {
   "cell_type": "code",
   "execution_count": 9,
   "id": "7bcc6ad0",
   "metadata": {},
   "outputs": [],
   "source": [
    "\n",
    "def standardize_cpu_names(text):\n",
    "    if text == 'Intel Core i5' or text == 'Intel Core i7' or text == 'Intel Core i3':\n",
    "        return text\n",
    "    else:\n",
    "        if text.split()[0] == 'Intel':\n",
    "            return 'Other Intel Processor'\n",
    "        else:\n",
    "            return 'AMD Processor'\n"
   ]
  },
  {
   "cell_type": "code",
   "execution_count": 10,
   "id": "aea4fb04",
   "metadata": {},
   "outputs": [],
   "source": [
    "data['Cpu brand'] = data['Cpu Name'].apply(standardize_cpu_names)\n",
    "data.drop(columns=['Cpu','Cpu Name'], inplace=True)\n"
   ]
  },
  {
   "cell_type": "code",
   "execution_count": 11,
   "id": "b191d045",
   "metadata": {},
   "outputs": [
    {
     "name": "stderr",
     "output_type": "stream",
     "text": [
      "<>:1: SyntaxWarning: invalid escape sequence '\\.'\n",
      "<>:1: SyntaxWarning: invalid escape sequence '\\.'\n",
      "C:\\Users\\kanak\\AppData\\Local\\Temp\\ipykernel_28616\\829201937.py:1: SyntaxWarning: invalid escape sequence '\\.'\n",
      "  data['Memory'] = data['Memory'].astype(str).replace('\\.0', '', regex=True)\n"
     ]
    }
   ],
   "source": [
    "data['Memory'] = data['Memory'].astype(str).replace('\\.0', '', regex=True)\n",
    "data[\"Memory\"] = data[\"Memory\"].str.replace('GB', '')\n",
    "data[\"Memory\"] = data[\"Memory\"].str.replace('TB', '000')\n",
    "new = data[\"Memory\"].str.split(\"+\", n=1, expand=True)\n"
   ]
  },
  {
   "cell_type": "code",
   "execution_count": 12,
   "id": "dd93e61d",
   "metadata": {},
   "outputs": [],
   "source": [
    "\n",
    "data[\"first\"] = new[0]\n",
    "data[\"first\"] = data[\"first\"].str.strip()\n",
    "\n",
    "data[\"second\"] = new[1]\n"
   ]
  },
  {
   "cell_type": "code",
   "execution_count": 13,
   "id": "39c6078c",
   "metadata": {},
   "outputs": [],
   "source": [
    "# Create storage type indicators\n",
    "data[\"Layer1HDD\"] = data[\"first\"].apply(lambda x: 1 if \"HDD\" in x else 0)\n",
    "data[\"Layer1SSD\"] = data[\"first\"].apply(lambda x: 1 if \"SSD\" in x else 0)\n",
    "data[\"Layer1Hybrid\"] = data[\"first\"].apply(lambda x: 1 if \"Hybrid\" in x else 0)\n",
    "data[\"Layer1Flash_Storage\"] = data[\"first\"].apply(lambda x: 1 if \"Flash Storage\" in x else 0)\n"
   ]
  },
  {
   "cell_type": "code",
   "execution_count": 14,
   "id": "042002f9",
   "metadata": {},
   "outputs": [
    {
     "name": "stderr",
     "output_type": "stream",
     "text": [
      "<>:2: SyntaxWarning: invalid escape sequence '\\d'\n",
      "<>:2: SyntaxWarning: invalid escape sequence '\\d'\n",
      "C:\\Users\\kanak\\AppData\\Local\\Temp\\ipykernel_28616\\824903060.py:2: SyntaxWarning: invalid escape sequence '\\d'\n",
      "  data['first'] = data['first'].str.extract('(\\d+)', expand=False)\n",
      "C:\\Users\\kanak\\AppData\\Local\\Temp\\ipykernel_28616\\824903060.py:3: FutureWarning: A value is trying to be set on a copy of a DataFrame or Series through chained assignment using an inplace method.\n",
      "The behavior will change in pandas 3.0. This inplace method will never work because the intermediate object on which we are setting values always behaves as a copy.\n",
      "\n",
      "For example, when doing 'df[col].method(value, inplace=True)', try using 'df.method({col: value}, inplace=True)' or df[col] = df[col].method(value) instead, to perform the operation inplace on the original object.\n",
      "\n",
      "\n",
      "  data['first'].fillna('0', inplace=True)\n",
      "C:\\Users\\kanak\\AppData\\Local\\Temp\\ipykernel_28616\\824903060.py:5: FutureWarning: A value is trying to be set on a copy of a DataFrame or Series through chained assignment using an inplace method.\n",
      "The behavior will change in pandas 3.0. This inplace method will never work because the intermediate object on which we are setting values always behaves as a copy.\n",
      "\n",
      "For example, when doing 'df[col].method(value, inplace=True)', try using 'df.method({col: value}, inplace=True)' or df[col] = df[col].method(value) instead, to perform the operation inplace on the original object.\n",
      "\n",
      "\n",
      "  data[\"second\"].fillna(\"0\", inplace=True)\n"
     ]
    }
   ],
   "source": [
    "# Extract numeric values only\n",
    "data['first'] = data['first'].str.extract('(\\d+)', expand=False)\n",
    "data['first'].fillna('0', inplace=True)\n",
    "\n",
    "data[\"second\"].fillna(\"0\", inplace=True)\n"
   ]
  },
  {
   "cell_type": "code",
   "execution_count": 15,
   "id": "4662a0ef",
   "metadata": {},
   "outputs": [],
   "source": [
    "data[\"Layer2HDD\"] = data[\"second\"].apply(lambda x: 1 if \"HDD\" in x else 0)\n",
    "data[\"Layer2SSD\"] = data[\"second\"].apply(lambda x: 1 if \"SSD\" in x else 0)\n",
    "data[\"Layer2Hybrid\"] = data[\"second\"].apply(lambda x: 1 if \"Hybrid\" in x else 0)\n",
    "data[\"Layer2Flash_Storage\"] = data[\"second\"].apply(lambda x: 1 if \"Flash Storage\" in x else 0)\n",
    "\n"
   ]
  },
  {
   "cell_type": "code",
   "execution_count": 16,
   "id": "653077d8",
   "metadata": {},
   "outputs": [
    {
     "name": "stderr",
     "output_type": "stream",
     "text": [
      "<>:1: SyntaxWarning: invalid escape sequence '\\d'\n",
      "<>:1: SyntaxWarning: invalid escape sequence '\\d'\n",
      "C:\\Users\\kanak\\AppData\\Local\\Temp\\ipykernel_28616\\3697834167.py:1: SyntaxWarning: invalid escape sequence '\\d'\n",
      "  data['second'] = data['second'].str.extract('(\\d+)', expand=False)\n",
      "C:\\Users\\kanak\\AppData\\Local\\Temp\\ipykernel_28616\\3697834167.py:2: FutureWarning: A value is trying to be set on a copy of a DataFrame or Series through chained assignment using an inplace method.\n",
      "The behavior will change in pandas 3.0. This inplace method will never work because the intermediate object on which we are setting values always behaves as a copy.\n",
      "\n",
      "For example, when doing 'df[col].method(value, inplace=True)', try using 'df.method({col: value}, inplace=True)' or df[col] = df[col].method(value) instead, to perform the operation inplace on the original object.\n",
      "\n",
      "\n",
      "  data['second'].fillna('0', inplace=True)\n"
     ]
    }
   ],
   "source": [
    "data['second'] = data['second'].str.extract('(\\d+)', expand=False)\n",
    "data['second'].fillna('0', inplace=True)\n"
   ]
  },
  {
   "cell_type": "code",
   "execution_count": 17,
   "id": "5aeabb45",
   "metadata": {},
   "outputs": [],
   "source": [
    "data[\"first\"] = data[\"first\"].astype(int)\n",
    "data[\"second\"] = data[\"second\"].astype(int)\n"
   ]
  },
  {
   "cell_type": "code",
   "execution_count": 18,
   "id": "57261106",
   "metadata": {},
   "outputs": [],
   "source": [
    "data[\"HDD\"] = (data[\"first\"] * data[\"Layer1HDD\"] + data[\"second\"] * data[\"Layer2HDD\"])\n",
    "data[\"SSD\"] = (data[\"first\"] * data[\"Layer1SSD\"] + data[\"second\"] * data[\"Layer2SSD\"])\n",
    "data[\"Hybrid\"] = (data[\"first\"] * data[\"Layer1Hybrid\"] + data[\"second\"] * data[\"Layer2Hybrid\"])\n",
    "data[\"Flash_Storage\"] = (data[\"first\"] * data[\"Layer1Flash_Storage\"] + data[\"second\"] * data[\"Layer2Flash_Storage\"])\n"
   ]
  },
  {
   "cell_type": "code",
   "execution_count": 19,
   "id": "c613c3bc",
   "metadata": {},
   "outputs": [],
   "source": [
    "data.drop(columns=['first', 'second', 'Layer1HDD', 'Layer1SSD', 'Layer1Hybrid',\n",
    "                   'Layer1Flash_Storage', 'Layer2HDD', 'Layer2SSD', 'Layer2Hybrid',\n",
    "                   'Layer2Flash_Storage', 'Memory', 'Hybrid', 'Flash_Storage'], inplace=True)\n"
   ]
  },
  {
   "cell_type": "code",
   "execution_count": 20,
   "id": "b2631489",
   "metadata": {},
   "outputs": [],
   "source": [
    "data['Gpu brand'] = data['Gpu'].apply(lambda x: x.split()[0])\n",
    "data = data[data['Gpu brand'] != 'ARM']\n",
    "data.drop(columns=['Gpu'], inplace=True)\n"
   ]
  },
  {
   "cell_type": "code",
   "execution_count": 21,
   "id": "258d7b22",
   "metadata": {},
   "outputs": [],
   "source": [
    "def map_operating_system(inp):\n",
    "    if inp == 'Windows 10' or inp == 'Windows 7' or inp == 'Windows 10 S':\n",
    "        return 'windows'\n",
    "    elif inp == 'macOS' or inp == 'Mac OS X':\n",
    "        return 'Mac'\n",
    "    else:\n",
    "        return 'Other/Linux/No OS'\n"
   ]
  },
  {
   "cell_type": "code",
   "execution_count": 22,
   "id": "d0076988",
   "metadata": {},
   "outputs": [],
   "source": [
    "data['os'] = data['OpSys'].apply(map_operating_system)\n",
    "data.drop(columns=['OpSys'], inplace=True)\n"
   ]
  },
  {
   "cell_type": "code",
   "execution_count": 23,
   "id": "94e94bff",
   "metadata": {},
   "outputs": [],
   "source": [
    "data.to_csv(\"../data_source/laptop_data_preprocessed.csv\", index=False)\n"
   ]
  }
 ],
 "metadata": {
  "kernelspec": {
   "display_name": "Python 3",
   "language": "python",
   "name": "python3"
  },
  "language_info": {
   "codemirror_mode": {
    "name": "ipython",
    "version": 3
   },
   "file_extension": ".py",
   "mimetype": "text/x-python",
   "name": "python",
   "nbconvert_exporter": "python",
   "pygments_lexer": "ipython3",
   "version": "3.13.1"
  }
 },
 "nbformat": 4,
 "nbformat_minor": 5
}
