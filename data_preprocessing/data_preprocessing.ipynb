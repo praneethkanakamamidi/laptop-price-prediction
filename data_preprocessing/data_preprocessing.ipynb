{
 "cells": [
  {
   "cell_type": "code",
   "execution_count": null,
   "id": "6ec063b4",
   "metadata": {},
   "outputs": [],
   "source": [
    "import pandas as pd\n",
    "import numpy as np\n",
    "from sklearn.model_selection import train_test_split as tts"
   ]
  },
  {
   "cell_type": "markdown",
   "id": "327656ed",
   "metadata": {},
   "source": [
    "###  Why Preprocessing is Needed for Laptop Data\n",
    "\n",
    "Before performing any meaningful analysis or modeling, preprocessing is essential because:\n",
    "\n",
    "1. **Handling Missing Values**  \n",
    "   - Laptop datasets often have missing specifications (e.g., `Weight`, `Touchscreen`, `SSD`).  \n",
    "   - Missing data can skew results or break models.\n",
    "\n",
    "2. **Correcting Data Types**  \n",
    "   - Some features like `Ram`, `Weight`, `Price` may be stored as strings.  \n",
    "   - Converting them to numeric types allows proper calculations and comparisons.\n",
    "\n",
    "3. **Standardizing Units and Formats**  \n",
    "   - Memory (`8GB`, `16GB`) or storage (`512GB SSD`) may have mixed formats.  \n",
    "   - Standardization ensures consistent comparisons.\n",
    "\n",
    "4. **Encoding Categorical Variables**  \n",
    "   - Features like `Company`, `TypeName`, `OpSys` are textual.  \n",
    "   - Encoding them numerically allows models to interpret categorical information.\n",
    "\n",
    "5. **Removing Redundancy and Noise**  \n",
    "   - Duplicate rows or irrelevant columns can reduce model accuracy.  \n",
    "   - Preprocessing ensures cleaner, more meaningful data.\n",
    "\n",
    "6. **Improving Model Performance**  \n",
    "   - Clean, consistent, and standardized data leads to better insights and more reliable predictive modeling.\n"
   ]
  },
  {
   "cell_type": "code",
   "execution_count": null,
   "id": "83803cb3",
   "metadata": {},
   "outputs": [
    {
     "name": "stdout",
     "output_type": "stream",
     "text": [
      "<class 'pandas.core.frame.DataFrame'>\n",
      "RangeIndex: 1303 entries, 0 to 1302\n",
      "Data columns (total 12 columns):\n",
      " #   Column            Non-Null Count  Dtype  \n",
      "---  ------            --------------  -----  \n",
      " 0   Unnamed: 0        1303 non-null   int64  \n",
      " 1   Company           1303 non-null   object \n",
      " 2   TypeName          1303 non-null   object \n",
      " 3   Inches            1303 non-null   float64\n",
      " 4   ScreenResolution  1303 non-null   object \n",
      " 5   Cpu               1303 non-null   object \n",
      " 6   Ram               1303 non-null   object \n",
      " 7   Memory            1303 non-null   object \n",
      " 8   Gpu               1303 non-null   object \n",
      " 9   OpSys             1303 non-null   object \n",
      " 10  Weight            1303 non-null   object \n",
      " 11  Price             1303 non-null   float64\n",
      "dtypes: float64(2), int64(1), object(9)\n",
      "memory usage: 122.3+ KB\n",
      "Series([], Name: Ram, dtype: object)\n"
     ]
    }
   ],
   "source": [
    "data = pd.read_excel(\"../data_source/laptop_data.xlsx\")\n",
    "data.info()"
   ]
  },
  {
   "cell_type": "code",
   "execution_count": 27,
   "id": "3b1ddda9",
   "metadata": {},
   "outputs": [],
   "source": [
    "data.drop(columns=['Unnamed: 0'], inplace=True, errors='ignore')"
   ]
  },
  {
   "cell_type": "code",
   "execution_count": null,
   "id": "23635e37",
   "metadata": {},
   "outputs": [
    {
     "data": {
      "text/plain": [
       "0        8GB\n",
       "1        8GB\n",
       "2        8GB\n",
       "3       16GB\n",
       "4        8GB\n",
       "        ... \n",
       "1298     4GB\n",
       "1299    16GB\n",
       "1300     2GB\n",
       "1301     6GB\n",
       "1302     4GB\n",
       "Name: Ram, Length: 1303, dtype: object"
      ]
     },
     "execution_count": 28,
     "metadata": {},
     "output_type": "execute_result"
    }
   ],
   "source": [
    "data['Ram']"
   ]
  },
  {
   "cell_type": "markdown",
   "id": "d3f61354",
   "metadata": {},
   "source": [
    "### Why We Clean and Convert the `Ram` Column\n",
    "\n",
    "1. **Remove Text for Numeric Operations**  \n",
    "   - Original `Ram` values like `\"8GB\"` are strings.  \n",
    "   - You cannot perform calculations, comparisons, or correlations on strings.\n",
    "\n",
    "2. **Convert to Numeric Type**  \n",
    "   - After removing `\"GB\"`, converting to `int32` allows:\n",
    "     - Sorting by RAM size\n",
    "     - Computing correlations with `Price` or `Weight`\n",
    "     - Using in machine learning models\n",
    "\n",
    "3. **Ensure Consistency**  \n",
    "   - All values are now pure numbers, avoiding errors during analysis."
   ]
  },
  {
   "cell_type": "code",
   "execution_count": 29,
   "id": "68af58b0",
   "metadata": {},
   "outputs": [
    {
     "data": {
      "text/plain": [
       "0        8\n",
       "1        8\n",
       "2        8\n",
       "3       16\n",
       "4        8\n",
       "        ..\n",
       "1298     4\n",
       "1299    16\n",
       "1300     2\n",
       "1301     6\n",
       "1302     4\n",
       "Name: Ram, Length: 1303, dtype: int32"
      ]
     },
     "execution_count": 29,
     "metadata": {},
     "output_type": "execute_result"
    }
   ],
   "source": [
    "data['Ram'] = data['Ram'].str.replace('GB','').astype('int32')\n",
    "data['Ram']"
   ]
  },
  {
   "cell_type": "code",
   "execution_count": 30,
   "id": "f5a63e7a",
   "metadata": {},
   "outputs": [
    {
     "data": {
      "text/plain": [
       "0       1.37kg\n",
       "1       1.34kg\n",
       "2       1.86kg\n",
       "3       1.83kg\n",
       "4       1.37kg\n",
       "         ...  \n",
       "1298     1.8kg\n",
       "1299     1.3kg\n",
       "1300     1.5kg\n",
       "1301    2.19kg\n",
       "1302     2.2kg\n",
       "Name: Weight, Length: 1303, dtype: object"
      ]
     },
     "execution_count": 30,
     "metadata": {},
     "output_type": "execute_result"
    }
   ],
   "source": [
    "data['Weight']"
   ]
  },
  {
   "cell_type": "markdown",
   "id": "ae149add",
   "metadata": {},
   "source": [
    "### Why We Clean and Convert the `Weight` Column\n",
    "\n",
    "1. **Remove Units for Numeric Operations**  \n",
    "   - Original `Weight` values like `\"1.37kg\"` are strings.  \n",
    "   - Strings cannot be used for calculations, comparisons, or modeling.\n",
    "\n",
    "2. **Convert to Float Type**  \n",
    "   - After removing `\"kg\"`, converting to `float32` allows:\n",
    "     - Performing arithmetic operations (e.g., average weight)\n",
    "     - Comparing weights between laptops\n",
    "     - Using in machine learning models\n",
    "\n",
    "3. **Ensure Consistency**  \n",
    "   - All values are now numeric and standardized, preventing errors in analysis.\n"
   ]
  },
  {
   "cell_type": "code",
   "execution_count": 31,
   "id": "223c6d32",
   "metadata": {},
   "outputs": [
    {
     "data": {
      "text/plain": [
       "0       1.37\n",
       "1       1.34\n",
       "2       1.86\n",
       "3       1.83\n",
       "4       1.37\n",
       "        ... \n",
       "1298    1.80\n",
       "1299    1.30\n",
       "1300    1.50\n",
       "1301    2.19\n",
       "1302    2.20\n",
       "Name: Weight, Length: 1303, dtype: float32"
      ]
     },
     "execution_count": 31,
     "metadata": {},
     "output_type": "execute_result"
    }
   ],
   "source": [
    "data['Weight'] = data['Weight'].str.replace('kg','').astype('float32')\n",
    "data['Weight']"
   ]
  },
  {
   "cell_type": "code",
   "execution_count": 32,
   "id": "ee2fde6d",
   "metadata": {},
   "outputs": [
    {
     "data": {
      "text/plain": [
       "0        71378.6832\n",
       "1        47895.5232\n",
       "2        30636.0000\n",
       "3       135195.3360\n",
       "4        96095.8080\n",
       "           ...     \n",
       "1298     33992.6400\n",
       "1299     79866.7200\n",
       "1300     12201.1200\n",
       "1301     40705.9200\n",
       "1302     19660.3200\n",
       "Name: Price, Length: 1303, dtype: float64"
      ]
     },
     "execution_count": 32,
     "metadata": {},
     "output_type": "execute_result"
    }
   ],
   "source": [
    "data['Price']"
   ]
  },
  {
   "cell_type": "markdown",
   "id": "b16946f2",
   "metadata": {},
   "source": [
    "### Why We Convert the `Price` Column to Integer\n",
    "\n",
    "1. **Simplify Values**  \n",
    "   - Original `Price` has decimal points (e.g., `71378.6832`) which are unnecessary for most analyses.  \n",
    "   - Converting to integer rounds off small fractions, making data cleaner.\n",
    "\n",
    "2. **Enable Numeric Operations**  \n",
    "   - Integers are easier to work with for:\n",
    "     - Sorting and comparisons\n",
    "     - Aggregations like mean, median, or total\n",
    "     - Machine learning models that expect numeric input\n",
    "\n",
    "3. **Consistency Across Dataset**  \n",
    "   - Aligns `Price` with other integer features like `Ram` for smoother analysis.\n"
   ]
  },
  {
   "cell_type": "code",
   "execution_count": 33,
   "id": "446c4ce6",
   "metadata": {},
   "outputs": [
    {
     "data": {
      "text/plain": [
       "0        71378\n",
       "1        47895\n",
       "2        30636\n",
       "3       135195\n",
       "4        96095\n",
       "         ...  \n",
       "1298     33992\n",
       "1299     79866\n",
       "1300     12201\n",
       "1301     40705\n",
       "1302     19660\n",
       "Name: Price, Length: 1303, dtype: int64"
      ]
     },
     "execution_count": 33,
     "metadata": {},
     "output_type": "execute_result"
    }
   ],
   "source": [
    "data['Price'] = data['Price'].astype(int)\n",
    "data['Price']"
   ]
  },
  {
   "cell_type": "code",
   "execution_count": 35,
   "id": "f6601178",
   "metadata": {},
   "outputs": [
    {
     "data": {
      "text/plain": [
       "0               IPS Panel Retina Display 2560x1600\n",
       "1                                         1440x900\n",
       "2                                Full HD 1920x1080\n",
       "3               IPS Panel Retina Display 2880x1800\n",
       "4               IPS Panel Retina Display 2560x1600\n",
       "                           ...                    \n",
       "1298     IPS Panel Full HD / Touchscreen 1920x1080\n",
       "1299    IPS Panel Quad HD+ / Touchscreen 3200x1800\n",
       "1300                                      1366x768\n",
       "1301                                      1366x768\n",
       "1302                                      1366x768\n",
       "Name: ScreenResolution, Length: 1303, dtype: object"
      ]
     },
     "execution_count": 35,
     "metadata": {},
     "output_type": "execute_result"
    }
   ],
   "source": [
    "data['ScreenResolution']"
   ]
  },
  {
   "cell_type": "markdown",
   "id": "fa47f49e",
   "metadata": {},
   "source": [
    "### Preprocessing `ScreenResolution` and Deriving Features\n",
    "\n",
    "1. **Extracting Touchscreen and IPS Features**  \n",
    "   - `Touchscreen` column: 1 if the display mentions \"Touchscreen\", else 0.  \n",
    "   - `IPS` column: 1 if the display mentions \"IPS\", else 0.  \n",
    "   - Converts textual info into numeric features for modeling.\n",
    "\n",
    "2. **Splitting Resolution into Width and Height**  \n",
    "   - Original `ScreenResolution` contains mixed text (e.g., `\"IPS Panel Retina Display 2560x1600\"`).  \n",
    "   - Extract `x_res` (width) and `y_res` (height) to get numeric pixel values.\n",
    "\n",
    "3. **Cleaning and Converting to Numeric**  \n",
    "   - Remove commas or extra text and convert strings to integers.  \n",
    "   - Ensures proper numeric calculations.\n",
    "\n",
    "4. **Calculating PPI (Pixels Per Inch)**  \n",
    "   - Formula: `sqrt(x_res^2 + y_res^2) / Inches`  \n",
    "   - Represents screen density, an important feature for laptop quality and pricing.\n",
    "\n",
    "5. **Dropping Original Columns**  \n",
    "   - Remove `ScreenResolution`, `Inches`, `x_res`, `y_res` as raw values are no longer needed.  \n",
    "   - Keeps dataset clean and numeric-only for analysis and modeling.\n"
   ]
  },
  {
   "cell_type": "code",
   "execution_count": 36,
   "id": "7f240c3a",
   "metadata": {},
   "outputs": [
    {
     "data": {
      "text/plain": [
       "0       0\n",
       "1       0\n",
       "2       0\n",
       "3       0\n",
       "4       0\n",
       "       ..\n",
       "1298    1\n",
       "1299    1\n",
       "1300    0\n",
       "1301    0\n",
       "1302    0\n",
       "Name: Touchscreen, Length: 1303, dtype: int64"
      ]
     },
     "execution_count": 36,
     "metadata": {},
     "output_type": "execute_result"
    }
   ],
   "source": [
    "data['Touchscreen'] = data['ScreenResolution'].apply(lambda x: 1 if 'Touchscreen' in x else 0)\n",
    "data['Touchscreen']\n"
   ]
  },
  {
   "cell_type": "code",
   "execution_count": 37,
   "id": "9c187fba",
   "metadata": {},
   "outputs": [
    {
     "data": {
      "text/plain": [
       "0       1\n",
       "1       0\n",
       "2       0\n",
       "3       1\n",
       "4       1\n",
       "       ..\n",
       "1298    1\n",
       "1299    1\n",
       "1300    0\n",
       "1301    0\n",
       "1302    0\n",
       "Name: IPS, Length: 1303, dtype: int64"
      ]
     },
     "execution_count": 37,
     "metadata": {},
     "output_type": "execute_result"
    }
   ],
   "source": [
    "data['IPS'] = data['ScreenResolution'].apply(lambda x: 1 if 'IPS' in x else 0)\n",
    "data['IPS']"
   ]
  },
  {
   "cell_type": "code",
   "execution_count": 39,
   "id": "a9818d7d",
   "metadata": {},
   "outputs": [
    {
     "data": {
      "text/html": [
       "<div>\n",
       "<style scoped>\n",
       "    .dataframe tbody tr th:only-of-type {\n",
       "        vertical-align: middle;\n",
       "    }\n",
       "\n",
       "    .dataframe tbody tr th {\n",
       "        vertical-align: top;\n",
       "    }\n",
       "\n",
       "    .dataframe thead th {\n",
       "        text-align: right;\n",
       "    }\n",
       "</style>\n",
       "<table border=\"1\" class=\"dataframe\">\n",
       "  <thead>\n",
       "    <tr style=\"text-align: right;\">\n",
       "      <th></th>\n",
       "      <th>0</th>\n",
       "      <th>1</th>\n",
       "    </tr>\n",
       "  </thead>\n",
       "  <tbody>\n",
       "    <tr>\n",
       "      <th>0</th>\n",
       "      <td>IPS Panel Retina Display 2560</td>\n",
       "      <td>1600</td>\n",
       "    </tr>\n",
       "    <tr>\n",
       "      <th>1</th>\n",
       "      <td>1440</td>\n",
       "      <td>900</td>\n",
       "    </tr>\n",
       "    <tr>\n",
       "      <th>2</th>\n",
       "      <td>Full HD 1920</td>\n",
       "      <td>1080</td>\n",
       "    </tr>\n",
       "    <tr>\n",
       "      <th>3</th>\n",
       "      <td>IPS Panel Retina Display 2880</td>\n",
       "      <td>1800</td>\n",
       "    </tr>\n",
       "    <tr>\n",
       "      <th>4</th>\n",
       "      <td>IPS Panel Retina Display 2560</td>\n",
       "      <td>1600</td>\n",
       "    </tr>\n",
       "    <tr>\n",
       "      <th>...</th>\n",
       "      <td>...</td>\n",
       "      <td>...</td>\n",
       "    </tr>\n",
       "    <tr>\n",
       "      <th>1298</th>\n",
       "      <td>IPS Panel Full HD / Touchscreen 1920</td>\n",
       "      <td>1080</td>\n",
       "    </tr>\n",
       "    <tr>\n",
       "      <th>1299</th>\n",
       "      <td>IPS Panel Quad HD+ / Touchscreen 3200</td>\n",
       "      <td>1800</td>\n",
       "    </tr>\n",
       "    <tr>\n",
       "      <th>1300</th>\n",
       "      <td>1366</td>\n",
       "      <td>768</td>\n",
       "    </tr>\n",
       "    <tr>\n",
       "      <th>1301</th>\n",
       "      <td>1366</td>\n",
       "      <td>768</td>\n",
       "    </tr>\n",
       "    <tr>\n",
       "      <th>1302</th>\n",
       "      <td>1366</td>\n",
       "      <td>768</td>\n",
       "    </tr>\n",
       "  </tbody>\n",
       "</table>\n",
       "<p>1303 rows × 2 columns</p>\n",
       "</div>"
      ],
      "text/plain": [
       "                                          0     1\n",
       "0             IPS Panel Retina Display 2560  1600\n",
       "1                                      1440   900\n",
       "2                              Full HD 1920  1080\n",
       "3             IPS Panel Retina Display 2880  1800\n",
       "4             IPS Panel Retina Display 2560  1600\n",
       "...                                     ...   ...\n",
       "1298   IPS Panel Full HD / Touchscreen 1920  1080\n",
       "1299  IPS Panel Quad HD+ / Touchscreen 3200  1800\n",
       "1300                                   1366   768\n",
       "1301                                   1366   768\n",
       "1302                                   1366   768\n",
       "\n",
       "[1303 rows x 2 columns]"
      ]
     },
     "execution_count": 39,
     "metadata": {},
     "output_type": "execute_result"
    }
   ],
   "source": [
    "new = data['ScreenResolution'].str.split('x', n=1, expand=True)\n",
    "new"
   ]
  },
  {
   "cell_type": "code",
   "execution_count": 40,
   "id": "14b7d355",
   "metadata": {},
   "outputs": [
    {
     "data": {
      "text/plain": [
       "0               IPS Panel Retina Display 2560\n",
       "1                                        1440\n",
       "2                                Full HD 1920\n",
       "3               IPS Panel Retina Display 2880\n",
       "4               IPS Panel Retina Display 2560\n",
       "                        ...                  \n",
       "1298     IPS Panel Full HD / Touchscreen 1920\n",
       "1299    IPS Panel Quad HD+ / Touchscreen 3200\n",
       "1300                                     1366\n",
       "1301                                     1366\n",
       "1302                                     1366\n",
       "Name: x_res, Length: 1303, dtype: object"
      ]
     },
     "execution_count": 40,
     "metadata": {},
     "output_type": "execute_result"
    }
   ],
   "source": [
    "data['x_res'] = new[0]\n",
    "data['x_res']\n"
   ]
  },
  {
   "cell_type": "code",
   "execution_count": 41,
   "id": "89467d53",
   "metadata": {},
   "outputs": [
    {
     "data": {
      "text/plain": [
       "0       1600\n",
       "1        900\n",
       "2       1080\n",
       "3       1800\n",
       "4       1600\n",
       "        ... \n",
       "1298    1080\n",
       "1299    1800\n",
       "1300     768\n",
       "1301     768\n",
       "1302     768\n",
       "Name: y_res, Length: 1303, dtype: object"
      ]
     },
     "execution_count": 41,
     "metadata": {},
     "output_type": "execute_result"
    }
   ],
   "source": [
    "\n",
    "data['y_res'] = new[1]\n",
    "data['y_res'] "
   ]
  },
  {
   "cell_type": "code",
   "execution_count": 42,
   "id": "9750c144",
   "metadata": {},
   "outputs": [],
   "source": [
    "data['x_res'] = data['x_res'].str.replace(',','').str.findall(r'(\\d+\\.?\\d+)').apply(lambda x: x[0] if x else '0')"
   ]
  },
  {
   "cell_type": "code",
   "execution_count": 44,
   "id": "80085ad9",
   "metadata": {},
   "outputs": [
    {
     "data": {
      "text/plain": [
       "0       2560\n",
       "1       1440\n",
       "2       1920\n",
       "3       2880\n",
       "4       2560\n",
       "        ... \n",
       "1298    1920\n",
       "1299    3200\n",
       "1300    1366\n",
       "1301    1366\n",
       "1302    1366\n",
       "Name: x_res, Length: 1303, dtype: int64"
      ]
     },
     "execution_count": 44,
     "metadata": {},
     "output_type": "execute_result"
    }
   ],
   "source": [
    "data['x_res'] = data['x_res'].astype(int)\n",
    "data['x_res']"
   ]
  },
  {
   "cell_type": "code",
   "execution_count": 45,
   "id": "df183655",
   "metadata": {},
   "outputs": [
    {
     "data": {
      "text/plain": [
       "0       1600\n",
       "1        900\n",
       "2       1080\n",
       "3       1800\n",
       "4       1600\n",
       "        ... \n",
       "1298    1080\n",
       "1299    1800\n",
       "1300     768\n",
       "1301     768\n",
       "1302     768\n",
       "Name: y_res, Length: 1303, dtype: int64"
      ]
     },
     "execution_count": 45,
     "metadata": {},
     "output_type": "execute_result"
    }
   ],
   "source": [
    "data['y_res'] = data['y_res'].astype(int)\n",
    "data['y_res']"
   ]
  },
  {
   "cell_type": "code",
   "execution_count": 46,
   "id": "cfe2a476",
   "metadata": {},
   "outputs": [
    {
     "data": {
      "text/plain": [
       "0       226.983005\n",
       "1       127.677940\n",
       "2       141.211998\n",
       "3       220.534624\n",
       "4       226.983005\n",
       "           ...    \n",
       "1298    157.350512\n",
       "1299    276.053530\n",
       "1300    111.935204\n",
       "1301    100.454670\n",
       "1302    100.454670\n",
       "Name: ppi, Length: 1303, dtype: float64"
      ]
     },
     "execution_count": 46,
     "metadata": {},
     "output_type": "execute_result"
    }
   ],
   "source": [
    "data['ppi'] = (((data['x_res']**2) + (data['y_res']**2))**0.5 / data['Inches']).astype(float)\n",
    "data['ppi']"
   ]
  },
  {
   "cell_type": "code",
   "execution_count": 47,
   "id": "e466e43c",
   "metadata": {},
   "outputs": [],
   "source": [
    "data.drop(columns=['ScreenResolution','Inches','x_res','y_res'], inplace=True)"
   ]
  },
  {
   "cell_type": "code",
   "execution_count": 49,
   "id": "ff2777b3",
   "metadata": {},
   "outputs": [
    {
     "data": {
      "text/plain": [
       "0                       Intel Core i5 2.3GHz\n",
       "1                       Intel Core i5 1.8GHz\n",
       "2                 Intel Core i5 7200U 2.5GHz\n",
       "3                       Intel Core i7 2.7GHz\n",
       "4                       Intel Core i5 3.1GHz\n",
       "                        ...                 \n",
       "1298              Intel Core i7 6500U 2.5GHz\n",
       "1299              Intel Core i7 6500U 2.5GHz\n",
       "1300    Intel Celeron Dual Core N3050 1.6GHz\n",
       "1301              Intel Core i7 6500U 2.5GHz\n",
       "1302    Intel Celeron Dual Core N3050 1.6GHz\n",
       "Name: Cpu, Length: 1303, dtype: object"
      ]
     },
     "execution_count": 49,
     "metadata": {},
     "output_type": "execute_result"
    }
   ],
   "source": [
    "data['Cpu'] "
   ]
  },
  {
   "cell_type": "code",
   "execution_count": 50,
   "id": "001fa6f5",
   "metadata": {},
   "outputs": [
    {
     "data": {
      "text/plain": [
       "0            Intel Core i5\n",
       "1            Intel Core i5\n",
       "2            Intel Core i5\n",
       "3            Intel Core i7\n",
       "4            Intel Core i5\n",
       "               ...        \n",
       "1298         Intel Core i7\n",
       "1299         Intel Core i7\n",
       "1300    Intel Celeron Dual\n",
       "1301         Intel Core i7\n",
       "1302    Intel Celeron Dual\n",
       "Name: Cpu Name, Length: 1303, dtype: object"
      ]
     },
     "execution_count": 50,
     "metadata": {},
     "output_type": "execute_result"
    }
   ],
   "source": [
    "data['Cpu Name'] = data['Cpu'].apply(lambda x: \" \".join(x.split()[0:3]))\n",
    "data['Cpu Name']"
   ]
  },
  {
   "cell_type": "markdown",
   "id": "4d905ed1",
   "metadata": {},
   "source": [
    "### Standardizing CPU Names into Brands\n",
    "\n",
    "1. **Purpose of Standardization**  \n",
    "   - Original `Cpu Name` contains many variations (e.g., `Intel Core i5`, `Intel Core i9`, `Intel Pentium`, `AMD Ryzen 5`).  \n",
    "   - Too many unique values can make analysis or modeling harder.\n",
    "\n",
    "2. **Grouping CPUs into Categories**  \n",
    "   - `\"Intel Core i3/i5/i7\"` → kept as-is  \n",
    "   - Other Intel CPUs → `\"Other Intel Processor\"`  \n",
    "   - All AMD CPUs → `\"AMD Processor\"`\n",
    "\n",
    "3. **Benefits**  \n",
    "   - Reduces categorical complexity  \n",
    "   - Makes features more consistent for grouping, encoding, and modeling\n",
    "\n",
    "4. **Dropping Original Columns**  \n",
    "   - `Cpu` and `Cpu Name` are removed as their information is now captured in `Cpu brand`.\n"
   ]
  },
  {
   "cell_type": "code",
   "execution_count": null,
   "id": "7bcc6ad0",
   "metadata": {},
   "outputs": [],
   "source": [
    "def standardize_cpu_names(text):\n",
    "    if text == 'Intel Core i5' or text == 'Intel Core i7' or text == 'Intel Core i3':\n",
    "        return text\n",
    "    else:\n",
    "        if text.split()[0] == 'Intel':\n",
    "            return 'Other Intel Processor'\n",
    "        else:\n",
    "            return 'AMD Processor'\n"
   ]
  },
  {
   "cell_type": "code",
   "execution_count": 51,
   "id": "aea4fb04",
   "metadata": {},
   "outputs": [
    {
     "data": {
      "text/plain": [
       "0               Intel Core i5\n",
       "1               Intel Core i5\n",
       "2               Intel Core i5\n",
       "3               Intel Core i7\n",
       "4               Intel Core i5\n",
       "                ...          \n",
       "1298            Intel Core i7\n",
       "1299            Intel Core i7\n",
       "1300    Other Intel Processor\n",
       "1301            Intel Core i7\n",
       "1302    Other Intel Processor\n",
       "Name: Cpu brand, Length: 1303, dtype: object"
      ]
     },
     "execution_count": 51,
     "metadata": {},
     "output_type": "execute_result"
    }
   ],
   "source": [
    "data['Cpu brand'] = data['Cpu Name'].apply(standardize_cpu_names)\n",
    "data['Cpu brand'] "
   ]
  },
  {
   "cell_type": "code",
   "execution_count": null,
   "id": "8c025599",
   "metadata": {},
   "outputs": [],
   "source": [
    "data.drop(columns=['Cpu','Cpu Name'], inplace=True)\\"
   ]
  },
  {
   "cell_type": "code",
   "execution_count": 52,
   "id": "b191d045",
   "metadata": {},
   "outputs": [
    {
     "name": "stderr",
     "output_type": "stream",
     "text": [
      "<>:1: SyntaxWarning: invalid escape sequence '\\.'\n",
      "<>:1: SyntaxWarning: invalid escape sequence '\\.'\n",
      "C:\\Users\\kanak\\AppData\\Local\\Temp\\ipykernel_28616\\3745011071.py:1: SyntaxWarning: invalid escape sequence '\\.'\n",
      "  data['Memory'] = data['Memory'].astype(str).replace('\\.0', '', regex=True)\n"
     ]
    },
    {
     "data": {
      "text/plain": [
       "0                 128 SSD\n",
       "1       128 Flash Storage\n",
       "2                 256 SSD\n",
       "3                 512 SSD\n",
       "4                 256 SSD\n",
       "              ...        \n",
       "1298              128 SSD\n",
       "1299              512 SSD\n",
       "1300     64 Flash Storage\n",
       "1301             1000 HDD\n",
       "1302              500 HDD\n",
       "Name: Memory, Length: 1303, dtype: object"
      ]
     },
     "execution_count": 52,
     "metadata": {},
     "output_type": "execute_result"
    }
   ],
   "source": [
    "data['Memory'] = data['Memory'].astype(str).replace('\\.0', '', regex=True)\n",
    "data[\"Memory\"] = data[\"Memory\"].str.replace('GB', '')\n",
    "data[\"Memory\"] = data[\"Memory\"].str.replace('TB', '000')\n",
    "new = data[\"Memory\"].str.split(\"+\", n=1, expand=True)\n",
    "data['Memory'] "
   ]
  },
  {
   "cell_type": "code",
   "execution_count": 53,
   "id": "dd93e61d",
   "metadata": {},
   "outputs": [
    {
     "data": {
      "text/plain": [
       "0                 128 SSD\n",
       "1       128 Flash Storage\n",
       "2                 256 SSD\n",
       "3                 512 SSD\n",
       "4                 256 SSD\n",
       "              ...        \n",
       "1298              128 SSD\n",
       "1299              512 SSD\n",
       "1300     64 Flash Storage\n",
       "1301             1000 HDD\n",
       "1302              500 HDD\n",
       "Name: first, Length: 1303, dtype: object"
      ]
     },
     "execution_count": 53,
     "metadata": {},
     "output_type": "execute_result"
    }
   ],
   "source": [
    "data[\"first\"] = new[0]\n",
    "data[\"first\"] = data[\"first\"].str.strip()\n",
    "data[\"first\"]"
   ]
  },
  {
   "cell_type": "code",
   "execution_count": 56,
   "id": "ab56d3be",
   "metadata": {},
   "outputs": [],
   "source": [
    "data[\"second\"] = new[1]"
   ]
  },
  {
   "cell_type": "code",
   "execution_count": 58,
   "id": "39c6078c",
   "metadata": {},
   "outputs": [
    {
     "data": {
      "text/plain": [
       "0       0\n",
       "1       1\n",
       "2       0\n",
       "3       0\n",
       "4       0\n",
       "       ..\n",
       "1298    0\n",
       "1299    0\n",
       "1300    1\n",
       "1301    0\n",
       "1302    0\n",
       "Name: Layer1Flash_Storage, Length: 1303, dtype: int64"
      ]
     },
     "execution_count": 58,
     "metadata": {},
     "output_type": "execute_result"
    }
   ],
   "source": [
    "data[\"Layer1HDD\"] = data[\"first\"].apply(lambda x: 1 if \"HDD\" in x else 0)\n",
    "data[\"Layer1SSD\"] = data[\"first\"].apply(lambda x: 1 if \"SSD\" in x else 0)\n",
    "data[\"Layer1Hybrid\"] = data[\"first\"].apply(lambda x: 1 if \"Hybrid\" in x else 0)\n",
    "data[\"Layer1Flash_Storage\"] = data[\"first\"].apply(lambda x: 1 if \"Flash Storage\" in x else 0)\n",
    "data[\"Layer1Flash_Storage\"]"
   ]
  },
  {
   "cell_type": "code",
   "execution_count": 59,
   "id": "042002f9",
   "metadata": {},
   "outputs": [
    {
     "name": "stderr",
     "output_type": "stream",
     "text": [
      "<>:2: SyntaxWarning: invalid escape sequence '\\d'\n",
      "<>:2: SyntaxWarning: invalid escape sequence '\\d'\n",
      "C:\\Users\\kanak\\AppData\\Local\\Temp\\ipykernel_28616\\4277038405.py:2: SyntaxWarning: invalid escape sequence '\\d'\n",
      "  data['first'] = data['first'].str.extract('(\\d+)', expand=False)\n",
      "C:\\Users\\kanak\\AppData\\Local\\Temp\\ipykernel_28616\\4277038405.py:3: FutureWarning: A value is trying to be set on a copy of a DataFrame or Series through chained assignment using an inplace method.\n",
      "The behavior will change in pandas 3.0. This inplace method will never work because the intermediate object on which we are setting values always behaves as a copy.\n",
      "\n",
      "For example, when doing 'df[col].method(value, inplace=True)', try using 'df.method({col: value}, inplace=True)' or df[col] = df[col].method(value) instead, to perform the operation inplace on the original object.\n",
      "\n",
      "\n",
      "  data['first'].fillna('0', inplace=True)\n",
      "C:\\Users\\kanak\\AppData\\Local\\Temp\\ipykernel_28616\\4277038405.py:5: FutureWarning: A value is trying to be set on a copy of a DataFrame or Series through chained assignment using an inplace method.\n",
      "The behavior will change in pandas 3.0. This inplace method will never work because the intermediate object on which we are setting values always behaves as a copy.\n",
      "\n",
      "For example, when doing 'df[col].method(value, inplace=True)', try using 'df.method({col: value}, inplace=True)' or df[col] = df[col].method(value) instead, to perform the operation inplace on the original object.\n",
      "\n",
      "\n",
      "  data[\"second\"].fillna(\"0\", inplace=True)\n"
     ]
    },
    {
     "data": {
      "text/plain": [
       "0       0\n",
       "1       0\n",
       "2       0\n",
       "3       0\n",
       "4       0\n",
       "       ..\n",
       "1298    0\n",
       "1299    0\n",
       "1300    0\n",
       "1301    0\n",
       "1302    0\n",
       "Name: second, Length: 1303, dtype: object"
      ]
     },
     "execution_count": 59,
     "metadata": {},
     "output_type": "execute_result"
    }
   ],
   "source": [
    "# Extract numeric values only\n",
    "data['first'] = data['first'].str.extract('(\\d+)', expand=False)\n",
    "data['first'].fillna('0', inplace=True)\n",
    "\n",
    "data[\"second\"].fillna(\"0\", inplace=True)\n",
    "data[\"second\"]"
   ]
  },
  {
   "cell_type": "code",
   "execution_count": 60,
   "id": "4662a0ef",
   "metadata": {},
   "outputs": [
    {
     "data": {
      "text/plain": [
       "0       0\n",
       "1       0\n",
       "2       0\n",
       "3       0\n",
       "4       0\n",
       "       ..\n",
       "1298    0\n",
       "1299    0\n",
       "1300    0\n",
       "1301    0\n",
       "1302    0\n",
       "Name: Layer2Flash_Storage, Length: 1303, dtype: int64"
      ]
     },
     "execution_count": 60,
     "metadata": {},
     "output_type": "execute_result"
    }
   ],
   "source": [
    "data[\"Layer2HDD\"] = data[\"second\"].apply(lambda x: 1 if \"HDD\" in x else 0)\n",
    "data[\"Layer2SSD\"] = data[\"second\"].apply(lambda x: 1 if \"SSD\" in x else 0)\n",
    "data[\"Layer2Hybrid\"] = data[\"second\"].apply(lambda x: 1 if \"Hybrid\" in x else 0)\n",
    "data[\"Layer2Flash_Storage\"] = data[\"second\"].apply(lambda x: 1 if \"Flash Storage\" in x else 0)\n",
    "\n",
    "data[\"Layer2Flash_Storage\"]"
   ]
  },
  {
   "cell_type": "code",
   "execution_count": 61,
   "id": "653077d8",
   "metadata": {},
   "outputs": [
    {
     "name": "stderr",
     "output_type": "stream",
     "text": [
      "<>:1: SyntaxWarning: invalid escape sequence '\\d'\n",
      "<>:1: SyntaxWarning: invalid escape sequence '\\d'\n",
      "C:\\Users\\kanak\\AppData\\Local\\Temp\\ipykernel_28616\\599620497.py:1: SyntaxWarning: invalid escape sequence '\\d'\n",
      "  data['second'] = data['second'].str.extract('(\\d+)', expand=False)\n",
      "C:\\Users\\kanak\\AppData\\Local\\Temp\\ipykernel_28616\\599620497.py:2: FutureWarning: A value is trying to be set on a copy of a DataFrame or Series through chained assignment using an inplace method.\n",
      "The behavior will change in pandas 3.0. This inplace method will never work because the intermediate object on which we are setting values always behaves as a copy.\n",
      "\n",
      "For example, when doing 'df[col].method(value, inplace=True)', try using 'df.method({col: value}, inplace=True)' or df[col] = df[col].method(value) instead, to perform the operation inplace on the original object.\n",
      "\n",
      "\n",
      "  data['second'].fillna('0', inplace=True)\n"
     ]
    },
    {
     "data": {
      "text/plain": [
       "0       0\n",
       "1       0\n",
       "2       0\n",
       "3       0\n",
       "4       0\n",
       "       ..\n",
       "1298    0\n",
       "1299    0\n",
       "1300    0\n",
       "1301    0\n",
       "1302    0\n",
       "Name: second, Length: 1303, dtype: object"
      ]
     },
     "execution_count": 61,
     "metadata": {},
     "output_type": "execute_result"
    }
   ],
   "source": [
    "data['second'] = data['second'].str.extract('(\\d+)', expand=False)\n",
    "data['second'].fillna('0', inplace=True)\n",
    "data['second']"
   ]
  },
  {
   "cell_type": "code",
   "execution_count": 62,
   "id": "5aeabb45",
   "metadata": {},
   "outputs": [
    {
     "data": {
      "text/plain": [
       "0        128\n",
       "1        128\n",
       "2        256\n",
       "3        512\n",
       "4        256\n",
       "        ... \n",
       "1298     128\n",
       "1299     512\n",
       "1300      64\n",
       "1301    1000\n",
       "1302     500\n",
       "Name: first, Length: 1303, dtype: int64"
      ]
     },
     "execution_count": 62,
     "metadata": {},
     "output_type": "execute_result"
    }
   ],
   "source": [
    "data[\"first\"] = data[\"first\"].astype(int)\n",
    "data[\"first\"]"
   ]
  },
  {
   "cell_type": "code",
   "execution_count": 64,
   "id": "2b2c1bf2",
   "metadata": {},
   "outputs": [
    {
     "data": {
      "text/plain": [
       "0       0\n",
       "1       0\n",
       "2       0\n",
       "3       0\n",
       "4       0\n",
       "       ..\n",
       "1298    0\n",
       "1299    0\n",
       "1300    0\n",
       "1301    0\n",
       "1302    0\n",
       "Name: second, Length: 1303, dtype: int64"
      ]
     },
     "execution_count": 64,
     "metadata": {},
     "output_type": "execute_result"
    }
   ],
   "source": [
    "data[\"second\"] = data[\"second\"].astype(int)\n",
    "data[\"second\"]"
   ]
  },
  {
   "cell_type": "code",
   "execution_count": 65,
   "id": "57261106",
   "metadata": {},
   "outputs": [
    {
     "data": {
      "text/plain": [
       "0          0\n",
       "1          0\n",
       "2          0\n",
       "3          0\n",
       "4          0\n",
       "        ... \n",
       "1298       0\n",
       "1299       0\n",
       "1300       0\n",
       "1301    1000\n",
       "1302     500\n",
       "Name: HDD, Length: 1303, dtype: int64"
      ]
     },
     "execution_count": 65,
     "metadata": {},
     "output_type": "execute_result"
    }
   ],
   "source": [
    "data[\"HDD\"] = (data[\"first\"] * data[\"Layer1HDD\"] + data[\"second\"] * data[\"Layer2HDD\"])\n",
    "data[\"HDD\"] \n"
   ]
  },
  {
   "cell_type": "code",
   "execution_count": 66,
   "id": "ac079bfa",
   "metadata": {},
   "outputs": [
    {
     "data": {
      "text/plain": [
       "0       128\n",
       "1         0\n",
       "2       256\n",
       "3       512\n",
       "4       256\n",
       "       ... \n",
       "1298    128\n",
       "1299    512\n",
       "1300      0\n",
       "1301      0\n",
       "1302      0\n",
       "Name: SSD, Length: 1303, dtype: int64"
      ]
     },
     "execution_count": 66,
     "metadata": {},
     "output_type": "execute_result"
    }
   ],
   "source": [
    "\n",
    "data[\"SSD\"] = (data[\"first\"] * data[\"Layer1SSD\"] + data[\"second\"] * data[\"Layer2SSD\"])\n",
    "data[\"SSD\"]\n"
   ]
  },
  {
   "cell_type": "code",
   "execution_count": 67,
   "id": "190faf5d",
   "metadata": {},
   "outputs": [],
   "source": [
    "\n",
    "data[\"Hybrid\"] = (data[\"first\"] * data[\"Layer1Hybrid\"] + data[\"second\"] * data[\"Layer2Hybrid\"])\n",
    "data[\"Flash_Storage\"] = (data[\"first\"] * data[\"Layer1Flash_Storage\"] + data[\"second\"] * data[\"Layer2Flash_Storage\"])\n"
   ]
  },
  {
   "cell_type": "code",
   "execution_count": 68,
   "id": "c613c3bc",
   "metadata": {},
   "outputs": [],
   "source": [
    "data.drop(columns=['first', 'second', 'Layer1HDD', 'Layer1SSD', 'Layer1Hybrid',\n",
    "                   'Layer1Flash_Storage', 'Layer2HDD', 'Layer2SSD', 'Layer2Hybrid',\n",
    "                   'Layer2Flash_Storage', 'Memory', 'Hybrid', 'Flash_Storage'], inplace=True)\n"
   ]
  },
  {
   "cell_type": "code",
   "execution_count": 70,
   "id": "725b5f01",
   "metadata": {},
   "outputs": [
    {
     "data": {
      "text/plain": [
       "0       Intel Iris Plus Graphics 640\n",
       "1             Intel HD Graphics 6000\n",
       "2              Intel HD Graphics 620\n",
       "3                 AMD Radeon Pro 455\n",
       "4       Intel Iris Plus Graphics 650\n",
       "                    ...             \n",
       "1298           Intel HD Graphics 520\n",
       "1299           Intel HD Graphics 520\n",
       "1300               Intel HD Graphics\n",
       "1301              AMD Radeon R5 M330\n",
       "1302               Intel HD Graphics\n",
       "Name: Gpu, Length: 1303, dtype: object"
      ]
     },
     "execution_count": 70,
     "metadata": {},
     "output_type": "execute_result"
    }
   ],
   "source": [
    "data['Gpu'] "
   ]
  },
  {
   "cell_type": "markdown",
   "id": "45f4789a",
   "metadata": {},
   "source": [
    "### Preprocessing `Gpu` Column\n",
    "\n",
    "1. **Extract GPU Brand**  \n",
    "   - Original `Gpu` values contain full names (e.g., `\"Intel Iris Plus Graphics 640\"`, `\"AMD Radeon Pro 455\"`).  \n",
    "   - `Gpu brand` keeps only the first word (brand), e.g., `\"Intel\"` or `\"AMD\"`.\n",
    "\n",
    "2. **Remove Irrelevant Entries**  \n",
    "   - Rows with `\"ARM\"` GPUs are removed as they are uncommon or not relevant for analysis.\n",
    "\n",
    "3. **Drop Original Column**  \n",
    "   - `Gpu` is dropped after extracting the brand, keeping dataset cleaner and categorical features consistent.\n"
   ]
  },
  {
   "cell_type": "code",
   "execution_count": null,
   "id": "b2631489",
   "metadata": {},
   "outputs": [],
   "source": [
    "data['Gpu brand'] = data['Gpu'].apply(lambda x: x.split()[0])\n",
    "data = data[data['Gpu brand'] != 'ARM']\n",
    "data.drop(columns=['Gpu'], inplace=True)\n"
   ]
  },
  {
   "cell_type": "code",
   "execution_count": 72,
   "id": "37c4e30f",
   "metadata": {},
   "outputs": [
    {
     "data": {
      "text/plain": [
       "0            macOS\n",
       "1            macOS\n",
       "2            No OS\n",
       "3            macOS\n",
       "4            macOS\n",
       "           ...    \n",
       "1298    Windows 10\n",
       "1299    Windows 10\n",
       "1300    Windows 10\n",
       "1301    Windows 10\n",
       "1302    Windows 10\n",
       "Name: OpSys, Length: 1303, dtype: object"
      ]
     },
     "execution_count": 72,
     "metadata": {},
     "output_type": "execute_result"
    }
   ],
   "source": [
    "data['OpSys']"
   ]
  },
  {
   "cell_type": "markdown",
   "id": "bf38dcaa",
   "metadata": {},
   "source": [
    "### Preprocessing `OpSys` Column\n",
    "\n",
    "1. **Original `OpSys` is Too Detailed**  \n",
    "   - Values include `\"Windows 10\"`, `\"Windows 7\"`, `\"macOS\"`, `\"No OS\"`, `\"Linux\"`, etc.  \n",
    "   - Too many unique categories can complicate analysis and modeling.\n",
    "\n",
    "2. **Mapping to Simplified Categories**  \n",
    "   - Windows variants → `\"windows\"`  \n",
    "   - macOS variants → `\"Mac\"`  \n",
    "   - Others (Linux, No OS) → `\"Other/Linux/No OS\"`  \n",
    "\n",
    "3. **Benefits**  \n",
    "   - Reduces complexity of categorical data  \n",
    "   - Makes feature more consistent for grouping, encoding, and modeling.\n",
    "\n",
    "4. **Drop Original Column**  \n",
    "   - `OpSys` is removed after mapping since the simplified `os` captures the essential information.\n"
   ]
  },
  {
   "cell_type": "code",
   "execution_count": 21,
   "id": "258d7b22",
   "metadata": {},
   "outputs": [],
   "source": [
    "def map_operating_system(inp):\n",
    "    if inp == 'Windows 10' or inp == 'Windows 7' or inp == 'Windows 10 S':\n",
    "        return 'windows'\n",
    "    elif inp == 'macOS' or inp == 'Mac OS X':\n",
    "        return 'Mac'\n",
    "    else:\n",
    "        return 'Other/Linux/No OS'\n"
   ]
  },
  {
   "cell_type": "code",
   "execution_count": 22,
   "id": "d0076988",
   "metadata": {},
   "outputs": [],
   "source": [
    "data['os'] = data['OpSys'].apply(map_operating_system)\n",
    "data.drop(columns=['OpSys'], inplace=True)\n"
   ]
  },
  {
   "cell_type": "code",
   "execution_count": 23,
   "id": "94e94bff",
   "metadata": {},
   "outputs": [],
   "source": [
    "data.to_csv(\"../data_source/laptop_data_preprocessed.csv\", index=False)\n"
   ]
  }
 ],
 "metadata": {
  "kernelspec": {
   "display_name": "Python 3",
   "language": "python",
   "name": "python3"
  },
  "language_info": {
   "codemirror_mode": {
    "name": "ipython",
    "version": 3
   },
   "file_extension": ".py",
   "mimetype": "text/x-python",
   "name": "python",
   "nbconvert_exporter": "python",
   "pygments_lexer": "ipython3",
   "version": "3.13.1"
  }
 },
 "nbformat": 4,
 "nbformat_minor": 5
}
